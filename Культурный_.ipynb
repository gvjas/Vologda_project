{
 "cells": [
  {
   "cell_type": "markdown",
   "metadata": {
    "id": "FH0ZYdNyQzug"
   },
   "source": [
    "## Загрузим нужные библиотеки"
   ]
  },
  {
   "cell_type": "code",
   "execution_count": 1,
   "metadata": {},
   "outputs": [],
   "source": [
    "import pandas as pd\n",
    "import seaborn as sns\n",
    "import matplotlib.pyplot as plt\n",
    "import numpy as np\n",
    "from scipy.sparse import csr_matrix, hstack, vstack\n",
    "\n",
    "from tqdm import tqdm\n",
    "\n",
    "from sklearn.metrics import accuracy_score, classification_report, log_loss, f1_score, precision_score, recall_score\n",
    "from sklearn.metrics import ConfusionMatrixDisplay, plot_confusion_matrix, confusion_matrix, make_scorer\n",
    "from sklearn.feature_extraction.text import CountVectorizer, TfidfTransformer, TfidfVectorizer, HashingVectorizer\n",
    "from sklearn.model_selection import train_test_split\n",
    "import xgboost as xgb\n",
    "import lightgbm as lgb\n",
    "\n",
    "\n",
    "RANDOM_STATE = 0\n",
    "\n",
    "%matplotlib inline"
   ]
  },
  {
   "cell_type": "code",
   "execution_count": 2,
   "metadata": {
    "id": "3TZUcuZ33rM5"
   },
   "outputs": [],
   "source": [
    "df_train = pd.read_csv(\"train.csv\")\n",
    "df_test = pd.read_csv(\"test.csv\")\n",
    "\n",
    "df_samp = pd.read_csv(\"sample_solution.csv\")"
   ]
  },
  {
   "cell_type": "markdown",
   "metadata": {
    "id": "GywlangPRAEm"
   },
   "source": [
    "## Рассмотрим датасет поближе"
   ]
  },
  {
   "cell_type": "code",
   "execution_count": 3,
   "metadata": {
    "colab": {
     "base_uri": "https://localhost:8080/",
     "height": 433
    },
    "id": "gvcl_K3FQ-os",
    "outputId": "3723d6bb-3ee0-4c12-a20b-fd6c3dc58237"
   },
   "outputs": [
    {
     "data": {
      "text/html": [
       "<div>\n",
       "<style scoped>\n",
       "    .dataframe tbody tr th:only-of-type {\n",
       "        vertical-align: middle;\n",
       "    }\n",
       "\n",
       "    .dataframe tbody tr th {\n",
       "        vertical-align: top;\n",
       "    }\n",
       "\n",
       "    .dataframe thead th {\n",
       "        text-align: right;\n",
       "    }\n",
       "</style>\n",
       "<table border=\"1\" class=\"dataframe\">\n",
       "  <thead>\n",
       "    <tr style=\"text-align: right;\">\n",
       "      <th></th>\n",
       "      <th>RecordNo</th>\n",
       "      <th>Название книги</th>\n",
       "      <th>Автор</th>\n",
       "      <th>Ссылка на литрес</th>\n",
       "      <th>Рейтинг</th>\n",
       "      <th>Количество оценок</th>\n",
       "      <th>Количество отзывов</th>\n",
       "      <th>Имя читателя</th>\n",
       "      <th>Оценка книги читателем (из 5 баллов)</th>\n",
       "      <th>Отзыв</th>\n",
       "      <th>Лайки на отзыв</th>\n",
       "      <th>Дислайки на отзыв</th>\n",
       "      <th>Релевантность</th>\n",
       "      <th>Таксономия релевантные</th>\n",
       "      <th>Таксономия не релевантные</th>\n",
       "      <th>Длина отзыва</th>\n",
       "      <th>Ценности</th>\n",
       "    </tr>\n",
       "  </thead>\n",
       "  <tbody>\n",
       "    <tr>\n",
       "      <th>0</th>\n",
       "      <td>6145</td>\n",
       "      <td>Зулейха открывает глаза</td>\n",
       "      <td>Гузель Яхина</td>\n",
       "      <td>https://www.litres.ru/guzel-yahina/zuleyha-otk...</td>\n",
       "      <td>4.7</td>\n",
       "      <td>3922</td>\n",
       "      <td>408</td>\n",
       "      <td>Айгуль Ляпина</td>\n",
       "      <td>5.0</td>\n",
       "      <td>Рекомендую книгу в прочтению/прослушиванию. Ес...</td>\n",
       "      <td>0</td>\n",
       "      <td>3</td>\n",
       "      <td>0</td>\n",
       "      <td>0</td>\n",
       "      <td>0</td>\n",
       "      <td>0</td>\n",
       "      <td>0</td>\n",
       "    </tr>\n",
       "    <tr>\n",
       "      <th>1</th>\n",
       "      <td>7006</td>\n",
       "      <td>Зулейха открывает глаза</td>\n",
       "      <td>Гузель Яхина</td>\n",
       "      <td>https://www.litres.ru/guzel-yahina/zuleyha-otk...</td>\n",
       "      <td>4.6</td>\n",
       "      <td>24719</td>\n",
       "      <td>2103</td>\n",
       "      <td>Olga T</td>\n",
       "      <td>5.0</td>\n",
       "      <td>Удивительно, что сейчас возникает ТАКАЯ литера...</td>\n",
       "      <td>0</td>\n",
       "      <td>1</td>\n",
       "      <td>0</td>\n",
       "      <td>0</td>\n",
       "      <td>0</td>\n",
       "      <td>0</td>\n",
       "      <td>1</td>\n",
       "    </tr>\n",
       "    <tr>\n",
       "      <th>2</th>\n",
       "      <td>1124</td>\n",
       "      <td>Дети мои</td>\n",
       "      <td>Гузель Яхина</td>\n",
       "      <td>https://www.litres.ru/guzel-yahina/deti-moi/</td>\n",
       "      <td>4.4</td>\n",
       "      <td>8032</td>\n",
       "      <td>702</td>\n",
       "      <td>Кирилл Чириков</td>\n",
       "      <td>5.0</td>\n",
       "      <td>Душевно, жизненно, чувственно, проникновенно!!...</td>\n",
       "      <td>0</td>\n",
       "      <td>0</td>\n",
       "      <td>0</td>\n",
       "      <td>1</td>\n",
       "      <td>0</td>\n",
       "      <td>0</td>\n",
       "      <td>1</td>\n",
       "    </tr>\n",
       "  </tbody>\n",
       "</table>\n",
       "</div>"
      ],
      "text/plain": [
       "   RecordNo           Название книги         Автор  \\\n",
       "0      6145  Зулейха открывает глаза  Гузель Яхина   \n",
       "1      7006  Зулейха открывает глаза  Гузель Яхина   \n",
       "2      1124                 Дети мои  Гузель Яхина   \n",
       "\n",
       "                                    Ссылка на литрес  Рейтинг  \\\n",
       "0  https://www.litres.ru/guzel-yahina/zuleyha-otk...      4.7   \n",
       "1  https://www.litres.ru/guzel-yahina/zuleyha-otk...      4.6   \n",
       "2       https://www.litres.ru/guzel-yahina/deti-moi/      4.4   \n",
       "\n",
       "   Количество оценок  Количество отзывов    Имя читателя  \\\n",
       "0               3922                 408   Айгуль Ляпина   \n",
       "1              24719                2103          Olga T   \n",
       "2               8032                 702  Кирилл Чириков   \n",
       "\n",
       "   Оценка книги читателем (из 5 баллов)  \\\n",
       "0                                   5.0   \n",
       "1                                   5.0   \n",
       "2                                   5.0   \n",
       "\n",
       "                                               Отзыв  Лайки на отзыв  \\\n",
       "0  Рекомендую книгу в прочтению/прослушиванию. Ес...               0   \n",
       "1  Удивительно, что сейчас возникает ТАКАЯ литера...               0   \n",
       "2  Душевно, жизненно, чувственно, проникновенно!!...               0   \n",
       "\n",
       "   Дислайки на отзыв  Релевантность  Таксономия релевантные  \\\n",
       "0                  3              0                       0   \n",
       "1                  1              0                       0   \n",
       "2                  0              0                       1   \n",
       "\n",
       "   Таксономия не релевантные  Длина отзыва  Ценности  \n",
       "0                          0             0         0  \n",
       "1                          0             0         1  \n",
       "2                          0             0         1  "
      ]
     },
     "execution_count": 3,
     "metadata": {},
     "output_type": "execute_result"
    }
   ],
   "source": [
    "df_train.head(3)"
   ]
  },
  {
   "cell_type": "markdown",
   "metadata": {
    "id": "w5fNLAa0h_dn"
   },
   "source": [
    "## Добавим новых признаков"
   ]
  },
  {
   "cell_type": "code",
   "execution_count": 4,
   "metadata": {},
   "outputs": [],
   "source": [
    "# соединим train и test\n",
    "df_all = pd.concat([df_train, df_test])"
   ]
  },
  {
   "cell_type": "code",
   "execution_count": 5,
   "metadata": {},
   "outputs": [],
   "source": [
    "dct_likes = df_train.groupby(['Название книги'])['Лайки на отзыв'].sum().to_dict()\n",
    "dct_dislikes = df_train.groupby(['Название книги'])['Дислайки на отзыв'].sum().to_dict()"
   ]
  },
  {
   "cell_type": "code",
   "execution_count": 6,
   "metadata": {},
   "outputs": [],
   "source": [
    "df_all['likes'] = df_all['Название книги'].map(dct_likes)\n",
    "df_all['dislikes'] = df_all['Название книги'].map(dct_dislikes)\n",
    "df_all['rate_likes'] = df_all['likes'] / (df_all['likes'] + df_all['dislikes'])"
   ]
  },
  {
   "cell_type": "code",
   "execution_count": 7,
   "metadata": {},
   "outputs": [],
   "source": [
    "count_author = df_train.groupby(['Автор'])['Название книги'].count().to_dict()\n",
    "nunique_author = df_train.groupby(['Автор'])['Название книги'].nunique().to_dict()\n",
    "df_all['count_author'] = df_all['Автор'].map(count_author)\n",
    "df_all['nunique_author'] = df_all['Автор'].map(nunique_author)\n",
    "df_all['rate_unique_author'] = df_all['nunique_author'] / df_all['count_author']"
   ]
  },
  {
   "cell_type": "code",
   "execution_count": 8,
   "metadata": {},
   "outputs": [],
   "source": [
    "# удаление пунктуации, чисел и др.\n",
    "pattern = r'[а-яa-z]+'\n",
    "prep = df_all['Отзыв'].str.lower().str.findall(pattern).str.join(' ')"
   ]
  },
  {
   "cell_type": "code",
   "execution_count": 9,
   "metadata": {},
   "outputs": [
    {
     "name": "stderr",
     "output_type": "stream",
     "text": [
      "[nltk_data] Error loading stopwords: <urlopen error [Errno 11001]\n",
      "[nltk_data]     getaddrinfo failed>\n"
     ]
    },
    {
     "data": {
      "text/plain": [
       "False"
      ]
     },
     "execution_count": 9,
     "metadata": {},
     "output_type": "execute_result"
    }
   ],
   "source": [
    "import nltk\n",
    "from nltk.corpus import stopwords\n",
    "from nltk import word_tokenize\n",
    "\n",
    "nltk.download('stopwords')"
   ]
  },
  {
   "cell_type": "code",
   "execution_count": 10,
   "metadata": {},
   "outputs": [],
   "source": [
    "russian_stopwords = stopwords.words(\"russian\")"
   ]
  },
  {
   "cell_type": "code",
   "execution_count": 11,
   "metadata": {},
   "outputs": [],
   "source": [
    "import pymorphy2\n",
    "morph = pymorphy2.MorphAnalyzer()"
   ]
  },
  {
   "cell_type": "code",
   "execution_count": 12,
   "metadata": {},
   "outputs": [
    {
     "name": "stderr",
     "output_type": "stream",
     "text": [
      "100%|██████████| 6914/6914 [02:03<00:00, 56.18it/s]\n"
     ]
    },
    {
     "data": {
      "text/plain": [
       "'рекомендовать книга прочтение прослушивание задуматься написать осень всплакнуть хотеться рада жить время'"
      ]
     },
     "execution_count": 12,
     "metadata": {},
     "output_type": "execute_result"
    }
   ],
   "source": [
    "# Лемматизация\n",
    "lemm_texts_column = []\n",
    "for text in tqdm(prep):\n",
    "    tokens = word_tokenize(text)    \n",
    "    lemmed_tokens = [morph.parse(token)[0].normal_form for token in tokens if token not in russian_stopwords]\n",
    "    text = \" \".join(lemmed_tokens)\n",
    "    lemm_texts_column.append(text)\n",
    "    \n",
    "lemm_texts_column[0]"
   ]
  },
  {
   "cell_type": "code",
   "execution_count": 13,
   "metadata": {},
   "outputs": [],
   "source": [
    "one_hot_labels = ['Название книги', 'Автор', 'Ссылка на литрес']"
   ]
  },
  {
   "cell_type": "code",
   "execution_count": 14,
   "metadata": {},
   "outputs": [],
   "source": [
    "df_all['Имя читателя'] = df_all['Имя читателя'].rank()"
   ]
  },
  {
   "cell_type": "code",
   "execution_count": 15,
   "metadata": {},
   "outputs": [],
   "source": [
    "df_all = pd.get_dummies(df_all, columns=one_hot_labels)"
   ]
  },
  {
   "cell_type": "code",
   "execution_count": 16,
   "metadata": {},
   "outputs": [],
   "source": [
    "df_all[\"len_reviews\"] = df_all[\"Отзыв\"].map(len)\n",
    "df_all[\"len_reviews_lemmed\"] = pd.Series(lemm_texts_column).map(len)"
   ]
  },
  {
   "cell_type": "code",
   "execution_count": 17,
   "metadata": {},
   "outputs": [
    {
     "name": "stdout",
     "output_type": "stream",
     "text": [
      "Wall time: 55.2 s\n"
     ]
    }
   ],
   "source": [
    "%%time\n",
    "tfidf_chars = CountVectorizer(analyzer='char', max_features=30000, ngram_range=(3, 7), min_df=5, max_df=0.8)\n",
    "tfidf_words = CountVectorizer(ngram_range=(1, 2), min_df=5, max_df=0.8)\n",
    "csr_chars = tfidf_chars.fit_transform(df_all['Отзыв'])\n",
    "csr_words = tfidf_words.fit_transform(df_all['Отзыв'])\n",
    "tfidf_chars_lem = CountVectorizer(analyzer='char', max_features=30000, ngram_range=(3, 7), min_df=5, max_df=0.8)\n",
    "tfidf_words_lem = CountVectorizer(ngram_range=(1, 2), min_df=5, max_df=0.8)\n",
    "csr_chars_lemmed = tfidf_chars_lem.fit_transform(lemm_texts_column)\n",
    "csr_words_lemmed = tfidf_words_lem.fit_transform(lemm_texts_column)"
   ]
  },
  {
   "cell_type": "code",
   "execution_count": 18,
   "metadata": {},
   "outputs": [
    {
     "data": {
      "image/png": "[encoded data removed]",
      "text/plain": [
       "<Figure size 1080x720 with 2 Axes>"
      ]
     },
     "metadata": {
      "needs_background": "light"
     },
     "output_type": "display_data"
    }
   ],
   "source": [
    "plt.figure(figsize=(15,10))\n",
    "sns.heatmap(df_train.corr(method='spearman'), annot=True, center=0, cmap='Spectral');"
   ]
  },
  {
   "cell_type": "code",
   "execution_count": 19,
   "metadata": {
    "colab": {
     "base_uri": "https://localhost:8080/"
    },
    "id": "SzAA5TKYfVey",
    "outputId": "71f5608f-b260-451d-8595-88bc11bec14a"
   },
   "outputs": [
    {
     "name": "stdout",
     "output_type": "stream",
     "text": [
      "<class 'pandas.core.frame.DataFrame'>\n",
      "RangeIndex: 4839 entries, 0 to 4838\n",
      "Data columns (total 17 columns):\n",
      " #   Column                                Non-Null Count  Dtype  \n",
      "---  ------                                --------------  -----  \n",
      " 0   RecordNo                              4839 non-null   int64  \n",
      " 1   Название книги                        4839 non-null   object \n",
      " 2   Автор                                 4839 non-null   object \n",
      " 3   Ссылка на литрес                      4839 non-null   object \n",
      " 4   Рейтинг                               4839 non-null   float64\n",
      " 5   Количество оценок                     4839 non-null   int64  \n",
      " 6   Количество отзывов                    4839 non-null   int64  \n",
      " 7   Имя читателя                          4839 non-null   object \n",
      " 8   Оценка книги читателем (из 5 баллов)  4070 non-null   float64\n",
      " 9   Отзыв                                 4839 non-null   object \n",
      " 10  Лайки на отзыв                        4839 non-null   int64  \n",
      " 11  Дислайки на отзыв                     4839 non-null   int64  \n",
      " 12  Релевантность                         4839 non-null   int64  \n",
      " 13  Таксономия релевантные                4839 non-null   int64  \n",
      " 14  Таксономия не релевантные             4839 non-null   int64  \n",
      " 15  Длина отзыва                          4839 non-null   int64  \n",
      " 16  Ценности                              4839 non-null   int64  \n",
      "dtypes: float64(2), int64(10), object(5)\n",
      "memory usage: 642.8+ KB\n"
     ]
    }
   ],
   "source": [
    "df_train.info()"
   ]
  },
  {
   "cell_type": "code",
   "execution_count": 20,
   "metadata": {
    "id": "xyutMnZ2msuR"
   },
   "outputs": [],
   "source": [
    "df_all = df_all.fillna(0)"
   ]
  },
  {
   "cell_type": "markdown",
   "metadata": {
    "id": "4cxnT51gu5fJ"
   },
   "source": [
    "## Построим на распределение данных"
   ]
  },
  {
   "cell_type": "code",
   "execution_count": 21,
   "metadata": {},
   "outputs": [
    {
     "data": {
      "image/png": "[encoded data removed]",
      "text/plain": [
       "<Figure size 432x288 with 1 Axes>"
      ]
     },
     "metadata": {
      "needs_background": "light"
     },
     "output_type": "display_data"
    }
   ],
   "source": [
    "_ = sns.countplot(x = \"Рейтинг\" , data  = df_train).set_title('Распределение рейтинга книг')"
   ]
  },
  {
   "cell_type": "code",
   "execution_count": 22,
   "metadata": {},
   "outputs": [
    {
     "data": {
      "image/png": "[encoded data removed]",
      "text/plain": [
       "<Figure size 432x288 with 1 Axes>"
      ]
     },
     "metadata": {
      "needs_background": "light"
     },
     "output_type": "display_data"
    }
   ],
   "source": [
    "_ = sns.countplot(x = 'Оценка книги читателем (из 5 баллов)', data  = df_train).set_title('Распределение рейтинга книг')"
   ]
  },
  {
   "cell_type": "markdown",
   "metadata": {
    "id": "Q0CkiEzGwusL"
   },
   "source": [
    "Взглянем на несколько величин сразу"
   ]
  },
  {
   "cell_type": "code",
   "execution_count": 23,
   "metadata": {
    "colab": {
     "base_uri": "https://localhost:8080/",
     "height": 618
    },
    "id": "NM_Cufl3u3H0",
    "outputId": "36060685-35d7-4395-c099-5ee591f9d6d9"
   },
   "outputs": [
    {
     "data": {
      "image/png": "[encoded data removed]",
      "text/plain": [
       "<Figure size 1440x864 with 12 Axes>"
      ]
     },
     "metadata": {
      "needs_background": "light"
     },
     "output_type": "display_data"
    }
   ],
   "source": [
    "features = list(set(df_train.columns.values) - set(['RecordNo']))\n",
    "\n",
    "_ = df_train[features].hist(figsize=(20,12))"
   ]
  },
  {
   "cell_type": "markdown",
   "metadata": {
    "id": "870l_9AGdTvF"
   },
   "source": [
    "## Выделим выборки"
   ]
  },
  {
   "cell_type": "code",
   "execution_count": 24,
   "metadata": {
    "id": "kPyQKVp8hdjK"
   },
   "outputs": [],
   "source": [
    "mass_label = ['Релевантность',\n",
    "               'Таксономия релевантные', 'Таксономия не релевантные',\n",
    "               'Длина отзыва', 'Ценности']"
   ]
  },
  {
   "cell_type": "code",
   "execution_count": 25,
   "metadata": {
    "id": "9_BLw43jh6pO"
   },
   "outputs": [],
   "source": [
    "object_label = df_all.dtypes[df_all.dtypes == \"object\"].index.values"
   ]
  },
  {
   "cell_type": "code",
   "execution_count": 26,
   "metadata": {
    "colab": {
     "base_uri": "https://localhost:8080/"
    },
    "id": "TqKjhDDYmB4M",
    "outputId": "46f101b4-796f-45f9-a173-2dd8c9e20a6f"
   },
   "outputs": [],
   "source": [
    "object_label = np.append(object_label,\"RecordNo\")"
   ]
  },
  {
   "cell_type": "code",
   "execution_count": 27,
   "metadata": {
    "id": "R4fN_sD-dGSG"
   },
   "outputs": [],
   "source": [
    "csr_all = hstack([csr_matrix(df_all.drop(mass_label+list(object_label), axis=1)), csr_words, csr_chars])\n",
    "\n",
    "X = csr_all[:df_train.shape[0]]\n",
    "\n",
    "y = df_train[mass_label]\n",
    "\n",
    "test = csr_all[df_train.shape[0]:]\n",
    "\n",
    "feats = list(df_all.drop(mass_label+list(object_label), axis=1).columns)\\\n",
    "                + sorted(list(tfidf_chars.vocabulary_)) + sorted(list(tfidf_words.vocabulary_))"
   ]
  },
  {
   "cell_type": "code",
   "execution_count": 28,
   "metadata": {},
   "outputs": [],
   "source": [
    "# разделение выборок с лемматизацией\n",
    "csr_all_lem = hstack([csr_matrix(df_all.drop(mass_label+list(object_label), axis=1)), \n",
    "                      csr_chars_lemmed, csr_words_lemmed])\n",
    "\n",
    "X_lem = csr_all_lem[:df_train.shape[0]]\n",
    "\n",
    "y_lem = df_train[mass_label]\n",
    "\n",
    "test_lem = csr_all_lem[df_train.shape[0]:]\n",
    "\n",
    "feats_lem = list(df_all.drop(mass_label+list(object_label), axis=1).columns)\\\n",
    "                + sorted(list(tfidf_chars_lem.vocabulary_)) + sorted(list(tfidf_words_lem.vocabulary_))"
   ]
  },
  {
   "cell_type": "code",
   "execution_count": 29,
   "metadata": {},
   "outputs": [
    {
     "data": {
      "text/plain": [
       "<4839x41908 sparse matrix of type '<class 'numpy.float64'>'\n",
       "\twith 4430547 stored elements in Compressed Sparse Row format>"
      ]
     },
     "execution_count": 29,
     "metadata": {},
     "output_type": "execute_result"
    }
   ],
   "source": [
    "X"
   ]
  },
  {
   "cell_type": "code",
   "execution_count": 30,
   "metadata": {},
   "outputs": [
    {
     "data": {
      "text/plain": [
       "<4839x38969 sparse matrix of type '<class 'numpy.float64'>'\n",
       "\twith 4162702 stored elements in Compressed Sparse Row format>"
      ]
     },
     "execution_count": 30,
     "metadata": {},
     "output_type": "execute_result"
    }
   ],
   "source": [
    "X_lem"
   ]
  },
  {
   "cell_type": "code",
   "execution_count": 31,
   "metadata": {
    "id": "_e7ZJ3QjdZLW"
   },
   "outputs": [],
   "source": [
    "X_train, X_test, y_train, y_test = train_test_split(X, y, test_size=0.3, random_state=42)\n",
    "X_train_lem, X_test_lem, y_train_lem, y_test_lem = train_test_split(X_lem, y, test_size=0.3, random_state=42)"
   ]
  },
  {
   "cell_type": "code",
   "execution_count": 32,
   "metadata": {},
   "outputs": [
    {
     "data": {
      "text/plain": [
       "Релевантность                 756\n",
       "Таксономия релевантные       1723\n",
       "Таксономия не релевантные     432\n",
       "Длина отзыва                  799\n",
       "Ценности                     1847\n",
       "dtype: int64"
      ]
     },
     "execution_count": 32,
     "metadata": {},
     "output_type": "execute_result"
    }
   ],
   "source": [
    "y_train.sum()"
   ]
  },
  {
   "cell_type": "code",
   "execution_count": 33,
   "metadata": {},
   "outputs": [
    {
     "data": {
      "text/plain": [
       "Релевантность                2631\n",
       "Таксономия релевантные       1664\n",
       "Таксономия не релевантные    2955\n",
       "Длина отзыва                 2588\n",
       "Ценности                     1540\n",
       "dtype: int64"
      ]
     },
     "execution_count": 33,
     "metadata": {},
     "output_type": "execute_result"
    }
   ],
   "source": [
    "y_train.count()-y_train.sum()"
   ]
  },
  {
   "cell_type": "code",
   "execution_count": 34,
   "metadata": {},
   "outputs": [
    {
     "data": {
      "text/plain": [
       "Релевантность                0.223206\n",
       "Таксономия релевантные       0.508710\n",
       "Таксономия не релевантные    0.127547\n",
       "Длина отзыва                 0.235902\n",
       "Ценности                     0.545320\n",
       "dtype: float64"
      ]
     },
     "execution_count": 34,
     "metadata": {},
     "output_type": "execute_result"
    }
   ],
   "source": [
    "y_train.sum()/y_train.count()"
   ]
  },
  {
   "cell_type": "markdown",
   "metadata": {
    "id": "wWOMlu5megED"
   },
   "source": [
    "## Обучение модели и оценка точности"
   ]
  },
  {
   "cell_type": "code",
   "execution_count": 35,
   "metadata": {},
   "outputs": [],
   "source": [
    "# балансировка классов (из наибольшего класса отбрасывается разница превышения над наименьшим по количеству)\n",
    "def balance_train(X, y):\n",
    "    y_ = y.reset_index(drop=True)\n",
    "    y_counts = y_.value_counts()\n",
    "    print(f'y\\n{y_counts}')        \n",
    "    size_min = min(y_counts)\n",
    "    y_min = y_[y_==y_counts[y_counts==size_min].index[0]]\n",
    "    y_max = y_[y_==y_counts[y_counts==max(y_counts)].index[0]].sample(size_min, random_state=RANDOM_STATE)\n",
    "    y_ = pd.concat([y_max, y_min])\n",
    "    idx = y_.index\n",
    "    X_ = X[idx, :]\n",
    "    print(f'\\nAfter resample\\n{y_.value_counts()}')\n",
    "    return X_, y_\n",
    "\n",
    "# обучение модели\n",
    "def fit_func(clf, X, y, X_test=[], y_test=[], is_test=True):\n",
    "    label = y.name          \n",
    "    X_bal, y_bal = balance_train(X, y)\n",
    "    print(X_bal.shape[1])\n",
    "    if is_test and clf.__class__.__name__ in ['XGBClassifier', 'LGBMClassifier']:\n",
    "        fit_clf = clf.fit(X_bal, y_bal, eval_set=[(X_test, y_test)])\n",
    "    else:\n",
    "        fit_clf = clf.fit(X_bal, y_bal)\n",
    "    return fit_clf\n",
    "\n",
    "# получение прогнозов\n",
    "def pred_func(fit_clf, test, label):\n",
    "    test_ = test.copy() \n",
    "    pred = (fit_clf, fit_clf.predict(test_))    \n",
    "    return pred\n",
    "\n",
    "# получение вероятностей прогнозов\n",
    "def pred_proba_func(fit_clf, test, label):\n",
    "    test_ = test.copy() \n",
    "    pred_proba = (fit_clf, fit_clf.predict_proba(test_)[:, 1])    \n",
    "    return pred_proba\n",
    "\n",
    "# расчет метрики\n",
    "def recall_func(preds, y_test, mass_label=mass_label):\n",
    "    recalls = []\n",
    "    for i in range(len(mass_label)):\n",
    "        recalls.append((f\"Recall {preds[i][0]} {mass_label[i]}:\", \n",
    "                        recall_score(y_test[mass_label[i]], preds[i][1], average='macro')))\n",
    "    return recalls\n",
    "\n",
    "# custom recall для xgboost\n",
    "def custom_recall(y_true, y_pred):\n",
    "    return -recall_score(y_true, np.round(y_pred), average='macro', zero_division=True)"
   ]
  },
  {
   "cell_type": "code",
   "execution_count": 36,
   "metadata": {},
   "outputs": [],
   "source": [
    "# отображение результатов обучения моделей\n",
    "def view_test(y_test, pred, feats):\n",
    "    label = y_test.name\n",
    "    result = 0 \n",
    "    clf = pred[0]\n",
    "    clf_name = clf.__class__.__name__\n",
    "    if clf_name == 'Pipeline':\n",
    "        print(pred[0])\n",
    "    else:\n",
    "        print(clf_name)\n",
    "    recall_ = recall_score(y_test, pred[1], average='macro', zero_division=True)\n",
    "    print(f'recall {y_test.name}', recall_)\n",
    "    labels_train = np.unique(y_test)\n",
    "\n",
    "    fig, axes = plt.subplots(1, 2, figsize=(10, 5), )\n",
    "    for j in range(2):\n",
    "        is_abs = ['', 'abs'][j]\n",
    "        axes[j].set_title(f'{y_test.name}, {is_abs}\\nrec: {np.round(recall_, 3)}')\n",
    "        cm = confusion_matrix(y_test, pred[1], labels=labels_train, normalize=['true', None][j])\n",
    "        disp = ConfusionMatrixDisplay(confusion_matrix=cm, display_labels=labels_train)\n",
    "        disp.plot(ax=axes[j]);\n",
    "        \n",
    "    print()\n",
    "    print(f'Feature_importances {label}:')\n",
    "    print(np.round(pd.Series(clf.feature_importances_, feats).sort_values(ascending=False), 3)[:20])"
   ]
  },
  {
   "cell_type": "markdown",
   "metadata": {},
   "source": [
    "### test Таксономия релевантные"
   ]
  },
  {
   "cell_type": "code",
   "execution_count": 37,
   "metadata": {
    "scrolled": true
   },
   "outputs": [
    {
     "name": "stdout",
     "output_type": "stream",
     "text": [
      "y\n",
      "1    1723\n",
      "0    1664\n",
      "Name: Таксономия релевантные, dtype: int64\n",
      "\n",
      "After resample\n",
      "1    1664\n",
      "0    1664\n",
      "Name: Таксономия релевантные, dtype: int64\n",
      "38969\n",
      "[1]\tvalid_0's binary_logloss: 0.604487\n",
      "[2]\tvalid_0's binary_logloss: 0.531702\n",
      "[3]\tvalid_0's binary_logloss: 0.471386\n",
      "[4]\tvalid_0's binary_logloss: 0.420518\n",
      "[5]\tvalid_0's binary_logloss: 0.376264\n",
      "[6]\tvalid_0's binary_logloss: 0.33834\n",
      "[7]\tvalid_0's binary_logloss: 0.305421\n",
      "[8]\tvalid_0's binary_logloss: 0.276396\n",
      "[9]\tvalid_0's binary_logloss: 0.251381\n",
      "[10]\tvalid_0's binary_logloss: 0.228551\n",
      "[11]\tvalid_0's binary_logloss: 0.208652\n",
      "[12]\tvalid_0's binary_logloss: 0.190649\n",
      "[13]\tvalid_0's binary_logloss: 0.174961\n",
      "[14]\tvalid_0's binary_logloss: 0.159862\n",
      "[15]\tvalid_0's binary_logloss: 0.14665\n",
      "[16]\tvalid_0's binary_logloss: 0.134787\n",
      "[17]\tvalid_0's binary_logloss: 0.124057\n",
      "[18]\tvalid_0's binary_logloss: 0.114651\n",
      "[19]\tvalid_0's binary_logloss: 0.105776\n",
      "[20]\tvalid_0's binary_logloss: 0.0977696\n",
      "[21]\tvalid_0's binary_logloss: 0.0914112\n",
      "[22]\tvalid_0's binary_logloss: 0.084893\n",
      "[23]\tvalid_0's binary_logloss: 0.0791586\n",
      "[24]\tvalid_0's binary_logloss: 0.0736748\n",
      "[25]\tvalid_0's binary_logloss: 0.0690258\n",
      "[26]\tvalid_0's binary_logloss: 0.0649185\n",
      "[27]\tvalid_0's binary_logloss: 0.0612407\n",
      "[28]\tvalid_0's binary_logloss: 0.0578646\n",
      "[29]\tvalid_0's binary_logloss: 0.05435\n",
      "[30]\tvalid_0's binary_logloss: 0.0515487\n",
      "[31]\tvalid_0's binary_logloss: 0.049447\n",
      "[32]\tvalid_0's binary_logloss: 0.0470091\n",
      "[33]\tvalid_0's binary_logloss: 0.0450288\n",
      "[34]\tvalid_0's binary_logloss: 0.0442056\n",
      "[35]\tvalid_0's binary_logloss: 0.0427102\n",
      "[36]\tvalid_0's binary_logloss: 0.0411237\n",
      "[37]\tvalid_0's binary_logloss: 0.0398525\n",
      "[38]\tvalid_0's binary_logloss: 0.0387182\n",
      "[39]\tvalid_0's binary_logloss: 0.0378516\n",
      "[40]\tvalid_0's binary_logloss: 0.036967\n",
      "[41]\tvalid_0's binary_logloss: 0.0366143\n",
      "[42]\tvalid_0's binary_logloss: 0.0364618\n",
      "[43]\tvalid_0's binary_logloss: 0.0359851\n",
      "[44]\tvalid_0's binary_logloss: 0.0356364\n",
      "[45]\tvalid_0's binary_logloss: 0.0352866\n",
      "[46]\tvalid_0's binary_logloss: 0.0348976\n",
      "[47]\tvalid_0's binary_logloss: 0.0347101\n",
      "[48]\tvalid_0's binary_logloss: 0.0345184\n",
      "[49]\tvalid_0's binary_logloss: 0.034806\n",
      "[50]\tvalid_0's binary_logloss: 0.0348042\n",
      "[51]\tvalid_0's binary_logloss: 0.0344431\n",
      "[52]\tvalid_0's binary_logloss: 0.0347323\n",
      "[53]\tvalid_0's binary_logloss: 0.0346934\n",
      "[54]\tvalid_0's binary_logloss: 0.0346967\n",
      "[55]\tvalid_0's binary_logloss: 0.0350694\n",
      "[56]\tvalid_0's binary_logloss: 0.035309\n",
      "[57]\tvalid_0's binary_logloss: 0.0358732\n",
      "[58]\tvalid_0's binary_logloss: 0.0362202\n",
      "[59]\tvalid_0's binary_logloss: 0.0362459\n",
      "[60]\tvalid_0's binary_logloss: 0.0364\n",
      "[61]\tvalid_0's binary_logloss: 0.0367298\n",
      "[62]\tvalid_0's binary_logloss: 0.037128\n",
      "[63]\tvalid_0's binary_logloss: 0.0373595\n",
      "[64]\tvalid_0's binary_logloss: 0.0377126\n",
      "[65]\tvalid_0's binary_logloss: 0.0379563\n",
      "[66]\tvalid_0's binary_logloss: 0.0382807\n",
      "[67]\tvalid_0's binary_logloss: 0.0389289\n",
      "[68]\tvalid_0's binary_logloss: 0.0392076\n",
      "[69]\tvalid_0's binary_logloss: 0.0394238\n",
      "[70]\tvalid_0's binary_logloss: 0.0399457\n",
      "[71]\tvalid_0's binary_logloss: 0.0400811\n",
      "[72]\tvalid_0's binary_logloss: 0.0405843\n",
      "[73]\tvalid_0's binary_logloss: 0.0408541\n",
      "[74]\tvalid_0's binary_logloss: 0.041226\n",
      "[75]\tvalid_0's binary_logloss: 0.0418495\n",
      "[76]\tvalid_0's binary_logloss: 0.0420828\n",
      "[77]\tvalid_0's binary_logloss: 0.0426688\n",
      "[78]\tvalid_0's binary_logloss: 0.0429386\n",
      "[79]\tvalid_0's binary_logloss: 0.0434931\n",
      "[80]\tvalid_0's binary_logloss: 0.0435723\n",
      "[81]\tvalid_0's binary_logloss: 0.0439298\n",
      "[82]\tvalid_0's binary_logloss: 0.0443445\n",
      "[83]\tvalid_0's binary_logloss: 0.0446954\n",
      "[84]\tvalid_0's binary_logloss: 0.0447491\n",
      "[85]\tvalid_0's binary_logloss: 0.0451728\n",
      "[86]\tvalid_0's binary_logloss: 0.0453577\n",
      "[87]\tvalid_0's binary_logloss: 0.045956\n",
      "[88]\tvalid_0's binary_logloss: 0.0465588\n",
      "[89]\tvalid_0's binary_logloss: 0.046941\n",
      "[90]\tvalid_0's binary_logloss: 0.0472943\n",
      "[91]\tvalid_0's binary_logloss: 0.0480966\n",
      "[92]\tvalid_0's binary_logloss: 0.0481423\n",
      "[93]\tvalid_0's binary_logloss: 0.0482158\n",
      "[94]\tvalid_0's binary_logloss: 0.0481801\n",
      "[95]\tvalid_0's binary_logloss: 0.0488671\n",
      "[96]\tvalid_0's binary_logloss: 0.0489914\n",
      "[97]\tvalid_0's binary_logloss: 0.0492208\n",
      "[98]\tvalid_0's binary_logloss: 0.0497076\n",
      "[99]\tvalid_0's binary_logloss: 0.0505022\n",
      "[100]\tvalid_0's binary_logloss: 0.0507981\n",
      "Wall time: 25.9 s\n"
     ]
    }
   ],
   "source": [
    "%%time\n",
    "clf_takson_relev = lgb.LGBMClassifier(random_state=RANDOM_STATE)\n",
    "\n",
    "clf_takson_relev_fit = fit_func(clf_takson_relev, X_train_lem, y_train_lem['Таксономия релевантные'],\n",
    "                                X_test_lem, y_test_lem['Таксономия релевантные'])"
   ]
  },
  {
   "cell_type": "code",
   "execution_count": 38,
   "metadata": {},
   "outputs": [],
   "source": [
    "pred_proba_train_takson_relev = pred_proba_func(clf_takson_relev_fit, X_train_lem, label='Таксономия релевантные')\n",
    "pred_proba_takson_relev = pred_proba_func(clf_takson_relev_fit, X_test_lem, label='Таксономия релевантные')\n",
    "\n",
    "pred_takson_relev = pred_func(clf_takson_relev_fit, X_test_lem, label='Таксономия релевантные')"
   ]
  },
  {
   "cell_type": "code",
   "execution_count": 39,
   "metadata": {},
   "outputs": [
    {
     "name": "stdout",
     "output_type": "stream",
     "text": [
      "LGBMClassifier\n",
      "recall Таксономия релевантные 0.9885855683269477\n",
      "\n",
      "Feature_importances Таксономия релевантные:\n",
      "герой                 95\n",
      "история               86\n",
      " сила                 85\n",
      "дьб                   82\n",
      "боль                  80\n",
      "дух                   76\n",
      " детст                68\n",
      " эмоция               65\n",
      "len_reviews           64\n",
      " воспо                62\n",
      " доля                 60\n",
      "испытан               55\n",
      " право                55\n",
      "len_reviews_lemmed    50\n",
      "несправедливость      40\n",
      "лод                   38\n",
      "азани                 38\n",
      "деду                  33\n",
      "Имя читателя          33\n",
      " эмо                  32\n",
      "dtype: int32\n"
     ]
    },
    {
     "data": {
      "image/png": "[encoded data removed]",
      "text/plain": [
       "<Figure size 720x360 with 4 Axes>"
      ]
     },
     "metadata": {
      "needs_background": "light"
     },
     "output_type": "display_data"
    }
   ],
   "source": [
    "recall_takson_relev = recall_score(y_test['Таксономия релевантные'], \n",
    "                                   pred_takson_relev[1], average='macro', zero_division=True)\n",
    "view_test(y_test['Таксономия релевантные'], pred_takson_relev, feats_lem)"
   ]
  },
  {
   "cell_type": "markdown",
   "metadata": {},
   "source": [
    "### test Таксономия не релевантные"
   ]
  },
  {
   "cell_type": "code",
   "execution_count": 40,
   "metadata": {},
   "outputs": [],
   "source": [
    "X_train_stack_takson_rel = hstack([X_train_lem, \n",
    "                                    csr_matrix(pred_proba_train_takson_relev[1].reshape(-1, 1))])\n",
    "\n",
    "X_test_stack_takson_rel = hstack([X_test_lem, \n",
    "                                  csr_matrix(pred_proba_takson_relev[1].reshape(-1, 1))])"
   ]
  },
  {
   "cell_type": "code",
   "execution_count": 41,
   "metadata": {
    "scrolled": true
   },
   "outputs": [
    {
     "name": "stdout",
     "output_type": "stream",
     "text": [
      "y\n",
      "0    2955\n",
      "1     432\n",
      "Name: Таксономия не релевантные, dtype: int64\n",
      "\n",
      "After resample\n",
      "0    432\n",
      "1    432\n",
      "Name: Таксономия не релевантные, dtype: int64\n",
      "38970\n",
      "[0]\tvalidation_0-logloss:0.67201\tvalidation_0-custom_recall:-0.90736\n",
      "[1]\tvalidation_0-logloss:0.65330\tvalidation_0-custom_recall:-0.90694\n",
      "[2]\tvalidation_0-logloss:0.63450\tvalidation_0-custom_recall:-0.92071\n",
      "[3]\tvalidation_0-logloss:0.61692\tvalidation_0-custom_recall:-0.91991\n",
      "[4]\tvalidation_0-logloss:0.60093\tvalidation_0-custom_recall:-0.91168\n",
      "[5]\tvalidation_0-logloss:0.58466\tvalidation_0-custom_recall:-0.92423\n",
      "[6]\tvalidation_0-logloss:0.56893\tvalidation_0-custom_recall:-0.91836\n",
      "[7]\tvalidation_0-logloss:0.55360\tvalidation_0-custom_recall:-0.91325\n",
      "[8]\tvalidation_0-logloss:0.54041\tvalidation_0-custom_recall:-0.91797\n",
      "[9]\tvalidation_0-logloss:0.52720\tvalidation_0-custom_recall:-0.91639\n",
      "[10]\tvalidation_0-logloss:0.51478\tvalidation_0-custom_recall:-0.91561\n",
      "[11]\tvalidation_0-logloss:0.50256\tvalidation_0-custom_recall:-0.92895\n",
      "[12]\tvalidation_0-logloss:0.49031\tvalidation_0-custom_recall:-0.91600\n",
      "[13]\tvalidation_0-logloss:0.47927\tvalidation_0-custom_recall:-0.91914\n",
      "[14]\tvalidation_0-logloss:0.46788\tvalidation_0-custom_recall:-0.92071\n",
      "[15]\tvalidation_0-logloss:0.45753\tvalidation_0-custom_recall:-0.92935\n",
      "[16]\tvalidation_0-logloss:0.44814\tvalidation_0-custom_recall:-0.92856\n",
      "[17]\tvalidation_0-logloss:0.43898\tvalidation_0-custom_recall:-0.92856\n",
      "[18]\tvalidation_0-logloss:0.42815\tvalidation_0-custom_recall:-0.92935\n",
      "[19]\tvalidation_0-logloss:0.41870\tvalidation_0-custom_recall:-0.92856\n",
      "[20]\tvalidation_0-logloss:0.41010\tvalidation_0-custom_recall:-0.92817\n",
      "[21]\tvalidation_0-logloss:0.40145\tvalidation_0-custom_recall:-0.92817\n",
      "[22]\tvalidation_0-logloss:0.39342\tvalidation_0-custom_recall:-0.92817\n",
      "[23]\tvalidation_0-logloss:0.38568\tvalidation_0-custom_recall:-0.92856\n",
      "[24]\tvalidation_0-logloss:0.37907\tvalidation_0-custom_recall:-0.92856\n",
      "[25]\tvalidation_0-logloss:0.37155\tvalidation_0-custom_recall:-0.92856\n",
      "[26]\tvalidation_0-logloss:0.36392\tvalidation_0-custom_recall:-0.92817\n",
      "[27]\tvalidation_0-logloss:0.35788\tvalidation_0-custom_recall:-0.92817\n",
      "[28]\tvalidation_0-logloss:0.35112\tvalidation_0-custom_recall:-0.92856\n",
      "[29]\tvalidation_0-logloss:0.34453\tvalidation_0-custom_recall:-0.92817\n",
      "[30]\tvalidation_0-logloss:0.33825\tvalidation_0-custom_recall:-0.92856\n",
      "[31]\tvalidation_0-logloss:0.33179\tvalidation_0-custom_recall:-0.92817\n",
      "[32]\tvalidation_0-logloss:0.32595\tvalidation_0-custom_recall:-0.93327\n",
      "[33]\tvalidation_0-logloss:0.32109\tvalidation_0-custom_recall:-0.93248\n",
      "[34]\tvalidation_0-logloss:0.31605\tvalidation_0-custom_recall:-0.93523\n",
      "[35]\tvalidation_0-logloss:0.31105\tvalidation_0-custom_recall:-0.93562\n",
      "[36]\tvalidation_0-logloss:0.30612\tvalidation_0-custom_recall:-0.93602\n",
      "[37]\tvalidation_0-logloss:0.30095\tvalidation_0-custom_recall:-0.93602\n",
      "[38]\tvalidation_0-logloss:0.29619\tvalidation_0-custom_recall:-0.93562\n",
      "[39]\tvalidation_0-logloss:0.29200\tvalidation_0-custom_recall:-0.93602\n",
      "[40]\tvalidation_0-logloss:0.28764\tvalidation_0-custom_recall:-0.93641\n",
      "[41]\tvalidation_0-logloss:0.28362\tvalidation_0-custom_recall:-0.93720\n",
      "[42]\tvalidation_0-logloss:0.27905\tvalidation_0-custom_recall:-0.93680\n",
      "[43]\tvalidation_0-logloss:0.27452\tvalidation_0-custom_recall:-0.93720\n",
      "[44]\tvalidation_0-logloss:0.27057\tvalidation_0-custom_recall:-0.93759\n",
      "[45]\tvalidation_0-logloss:0.26678\tvalidation_0-custom_recall:-0.93759\n",
      "[46]\tvalidation_0-logloss:0.26326\tvalidation_0-custom_recall:-0.93680\n",
      "[47]\tvalidation_0-logloss:0.25928\tvalidation_0-custom_recall:-0.93720\n",
      "[48]\tvalidation_0-logloss:0.25596\tvalidation_0-custom_recall:-0.93720\n",
      "[49]\tvalidation_0-logloss:0.25232\tvalidation_0-custom_recall:-0.93720\n",
      "[50]\tvalidation_0-logloss:0.24912\tvalidation_0-custom_recall:-0.93720\n",
      "[51]\tvalidation_0-logloss:0.24569\tvalidation_0-custom_recall:-0.93680\n",
      "[52]\tvalidation_0-logloss:0.24260\tvalidation_0-custom_recall:-0.93720\n",
      "[53]\tvalidation_0-logloss:0.23906\tvalidation_0-custom_recall:-0.93720\n",
      "[54]\tvalidation_0-logloss:0.23664\tvalidation_0-custom_recall:-0.93720\n",
      "[55]\tvalidation_0-logloss:0.23349\tvalidation_0-custom_recall:-0.93720\n",
      "[56]\tvalidation_0-logloss:0.23058\tvalidation_0-custom_recall:-0.93720\n",
      "[57]\tvalidation_0-logloss:0.22781\tvalidation_0-custom_recall:-0.93720\n",
      "[58]\tvalidation_0-logloss:0.22573\tvalidation_0-custom_recall:-0.93720\n",
      "[59]\tvalidation_0-logloss:0.22313\tvalidation_0-custom_recall:-0.93680\n",
      "[60]\tvalidation_0-logloss:0.22056\tvalidation_0-custom_recall:-0.93680\n",
      "[61]\tvalidation_0-logloss:0.21857\tvalidation_0-custom_recall:-0.93720\n",
      "[62]\tvalidation_0-logloss:0.21643\tvalidation_0-custom_recall:-0.93680\n",
      "[63]\tvalidation_0-logloss:0.21422\tvalidation_0-custom_recall:-0.93955\n",
      "[64]\tvalidation_0-logloss:0.21223\tvalidation_0-custom_recall:-0.93955\n",
      "[65]\tvalidation_0-logloss:0.21020\tvalidation_0-custom_recall:-0.93955\n",
      "[66]\tvalidation_0-logloss:0.20765\tvalidation_0-custom_recall:-0.93955\n",
      "[67]\tvalidation_0-logloss:0.20615\tvalidation_0-custom_recall:-0.93916\n",
      "[68]\tvalidation_0-logloss:0.20384\tvalidation_0-custom_recall:-0.93955\n",
      "[69]\tvalidation_0-logloss:0.20183\tvalidation_0-custom_recall:-0.93955\n",
      "[70]\tvalidation_0-logloss:0.19992\tvalidation_0-custom_recall:-0.94230\n",
      "[71]\tvalidation_0-logloss:0.19765\tvalidation_0-custom_recall:-0.94190\n",
      "[72]\tvalidation_0-logloss:0.19632\tvalidation_0-custom_recall:-0.94190\n",
      "[73]\tvalidation_0-logloss:0.19471\tvalidation_0-custom_recall:-0.94190\n",
      "[74]\tvalidation_0-logloss:0.19310\tvalidation_0-custom_recall:-0.94190\n",
      "[75]\tvalidation_0-logloss:0.19145\tvalidation_0-custom_recall:-0.94151\n",
      "[76]\tvalidation_0-logloss:0.18987\tvalidation_0-custom_recall:-0.94151\n",
      "[77]\tvalidation_0-logloss:0.18866\tvalidation_0-custom_recall:-0.94151\n",
      "[78]\tvalidation_0-logloss:0.18660\tvalidation_0-custom_recall:-0.94151\n",
      "[79]\tvalidation_0-logloss:0.18502\tvalidation_0-custom_recall:-0.94151\n",
      "[80]\tvalidation_0-logloss:0.18387\tvalidation_0-custom_recall:-0.94151\n",
      "[81]\tvalidation_0-logloss:0.18261\tvalidation_0-custom_recall:-0.94151\n",
      "[82]\tvalidation_0-logloss:0.18102\tvalidation_0-custom_recall:-0.94112\n",
      "[83]\tvalidation_0-logloss:0.17945\tvalidation_0-custom_recall:-0.94426\n",
      "[84]\tvalidation_0-logloss:0.17755\tvalidation_0-custom_recall:-0.94740\n",
      "[85]\tvalidation_0-logloss:0.17627\tvalidation_0-custom_recall:-0.94701\n",
      "[86]\tvalidation_0-logloss:0.17499\tvalidation_0-custom_recall:-0.94701\n",
      "[87]\tvalidation_0-logloss:0.17386\tvalidation_0-custom_recall:-0.94701\n",
      "[88]\tvalidation_0-logloss:0.17291\tvalidation_0-custom_recall:-0.94386\n",
      "[89]\tvalidation_0-logloss:0.17129\tvalidation_0-custom_recall:-0.94661\n",
      "[90]\tvalidation_0-logloss:0.16963\tvalidation_0-custom_recall:-0.94975\n",
      "[91]\tvalidation_0-logloss:0.16815\tvalidation_0-custom_recall:-0.94975\n",
      "[92]\tvalidation_0-logloss:0.16705\tvalidation_0-custom_recall:-0.94975\n",
      "[93]\tvalidation_0-logloss:0.16577\tvalidation_0-custom_recall:-0.94936\n",
      "[94]\tvalidation_0-logloss:0.16485\tvalidation_0-custom_recall:-0.94897\n",
      "[95]\tvalidation_0-logloss:0.16375\tvalidation_0-custom_recall:-0.94936\n",
      "[96]\tvalidation_0-logloss:0.16282\tvalidation_0-custom_recall:-0.94897\n",
      "[97]\tvalidation_0-logloss:0.16168\tvalidation_0-custom_recall:-0.94897\n",
      "[98]\tvalidation_0-logloss:0.16061\tvalidation_0-custom_recall:-0.95211\n",
      "[99]\tvalidation_0-logloss:0.15940\tvalidation_0-custom_recall:-0.95721\n",
      "[100]\tvalidation_0-logloss:0.15855\tvalidation_0-custom_recall:-0.95681\n",
      "[101]\tvalidation_0-logloss:0.15723\tvalidation_0-custom_recall:-0.95446\n",
      "[102]\tvalidation_0-logloss:0.15630\tvalidation_0-custom_recall:-0.95721\n",
      "[103]\tvalidation_0-logloss:0.15520\tvalidation_0-custom_recall:-0.95721\n",
      "[104]\tvalidation_0-logloss:0.15403\tvalidation_0-custom_recall:-0.95721\n",
      "[105]\tvalidation_0-logloss:0.15342\tvalidation_0-custom_recall:-0.95721\n",
      "[106]\tvalidation_0-logloss:0.15236\tvalidation_0-custom_recall:-0.95681\n",
      "[107]\tvalidation_0-logloss:0.15156\tvalidation_0-custom_recall:-0.95681\n",
      "[108]\tvalidation_0-logloss:0.15068\tvalidation_0-custom_recall:-0.95681\n",
      "[109]\tvalidation_0-logloss:0.14967\tvalidation_0-custom_recall:-0.95681\n",
      "[110]\tvalidation_0-logloss:0.14871\tvalidation_0-custom_recall:-0.95367\n",
      "[111]\tvalidation_0-logloss:0.14770\tvalidation_0-custom_recall:-0.95642\n",
      "[112]\tvalidation_0-logloss:0.14682\tvalidation_0-custom_recall:-0.95367\n",
      "[113]\tvalidation_0-logloss:0.14608\tvalidation_0-custom_recall:-0.95367\n",
      "[114]\tvalidation_0-logloss:0.14511\tvalidation_0-custom_recall:-0.95367\n"
     ]
    },
    {
     "name": "stdout",
     "output_type": "stream",
     "text": [
      "[115]\tvalidation_0-logloss:0.14426\tvalidation_0-custom_recall:-0.95642\n",
      "[116]\tvalidation_0-logloss:0.14335\tvalidation_0-custom_recall:-0.95642\n",
      "[117]\tvalidation_0-logloss:0.14232\tvalidation_0-custom_recall:-0.95681\n",
      "[118]\tvalidation_0-logloss:0.14212\tvalidation_0-custom_recall:-0.95642\n",
      "[119]\tvalidation_0-logloss:0.14160\tvalidation_0-custom_recall:-0.95642\n",
      "[120]\tvalidation_0-logloss:0.14105\tvalidation_0-custom_recall:-0.95642\n",
      "[121]\tvalidation_0-logloss:0.14046\tvalidation_0-custom_recall:-0.95603\n",
      "[122]\tvalidation_0-logloss:0.13958\tvalidation_0-custom_recall:-0.95642\n",
      "[123]\tvalidation_0-logloss:0.13933\tvalidation_0-custom_recall:-0.95917\n",
      "[124]\tvalidation_0-logloss:0.13848\tvalidation_0-custom_recall:-0.95917\n",
      "[125]\tvalidation_0-logloss:0.13772\tvalidation_0-custom_recall:-0.95917\n",
      "[126]\tvalidation_0-logloss:0.13736\tvalidation_0-custom_recall:-0.95917\n",
      "[127]\tvalidation_0-logloss:0.13656\tvalidation_0-custom_recall:-0.95917\n",
      "[128]\tvalidation_0-logloss:0.13581\tvalidation_0-custom_recall:-0.95917\n",
      "[129]\tvalidation_0-logloss:0.13495\tvalidation_0-custom_recall:-0.95956\n",
      "[130]\tvalidation_0-logloss:0.13464\tvalidation_0-custom_recall:-0.95917\n",
      "[131]\tvalidation_0-logloss:0.13383\tvalidation_0-custom_recall:-0.95838\n",
      "[132]\tvalidation_0-logloss:0.13291\tvalidation_0-custom_recall:-0.95838\n",
      "[133]\tvalidation_0-logloss:0.13212\tvalidation_0-custom_recall:-0.95838\n",
      "[134]\tvalidation_0-logloss:0.13156\tvalidation_0-custom_recall:-0.95838\n",
      "[135]\tvalidation_0-logloss:0.13064\tvalidation_0-custom_recall:-0.95838\n",
      "[136]\tvalidation_0-logloss:0.12973\tvalidation_0-custom_recall:-0.95838\n",
      "[137]\tvalidation_0-logloss:0.12925\tvalidation_0-custom_recall:-0.95838\n",
      "[138]\tvalidation_0-logloss:0.12871\tvalidation_0-custom_recall:-0.95838\n",
      "[139]\tvalidation_0-logloss:0.12853\tvalidation_0-custom_recall:-0.95838\n",
      "[140]\tvalidation_0-logloss:0.12789\tvalidation_0-custom_recall:-0.95838\n",
      "[141]\tvalidation_0-logloss:0.12758\tvalidation_0-custom_recall:-0.95838\n",
      "[142]\tvalidation_0-logloss:0.12731\tvalidation_0-custom_recall:-0.95838\n",
      "[143]\tvalidation_0-logloss:0.12695\tvalidation_0-custom_recall:-0.96152\n",
      "[144]\tvalidation_0-logloss:0.12655\tvalidation_0-custom_recall:-0.95877\n",
      "[145]\tvalidation_0-logloss:0.12597\tvalidation_0-custom_recall:-0.96152\n",
      "[146]\tvalidation_0-logloss:0.12557\tvalidation_0-custom_recall:-0.96152\n",
      "[147]\tvalidation_0-logloss:0.12510\tvalidation_0-custom_recall:-0.96152\n",
      "[148]\tvalidation_0-logloss:0.12445\tvalidation_0-custom_recall:-0.96152\n",
      "[149]\tvalidation_0-logloss:0.12380\tvalidation_0-custom_recall:-0.96427\n",
      "[150]\tvalidation_0-logloss:0.12347\tvalidation_0-custom_recall:-0.96152\n",
      "[151]\tvalidation_0-logloss:0.12317\tvalidation_0-custom_recall:-0.96152\n",
      "[152]\tvalidation_0-logloss:0.12261\tvalidation_0-custom_recall:-0.96427\n",
      "[153]\tvalidation_0-logloss:0.12212\tvalidation_0-custom_recall:-0.96152\n",
      "[154]\tvalidation_0-logloss:0.12152\tvalidation_0-custom_recall:-0.96152\n",
      "[155]\tvalidation_0-logloss:0.12093\tvalidation_0-custom_recall:-0.96427\n",
      "[156]\tvalidation_0-logloss:0.12019\tvalidation_0-custom_recall:-0.96427\n",
      "[157]\tvalidation_0-logloss:0.11986\tvalidation_0-custom_recall:-0.96702\n",
      "[158]\tvalidation_0-logloss:0.11953\tvalidation_0-custom_recall:-0.96427\n",
      "[159]\tvalidation_0-logloss:0.11929\tvalidation_0-custom_recall:-0.96702\n",
      "[160]\tvalidation_0-logloss:0.11911\tvalidation_0-custom_recall:-0.96427\n",
      "[161]\tvalidation_0-logloss:0.11880\tvalidation_0-custom_recall:-0.96702\n",
      "[162]\tvalidation_0-logloss:0.11830\tvalidation_0-custom_recall:-0.96388\n",
      "[163]\tvalidation_0-logloss:0.11755\tvalidation_0-custom_recall:-0.96113\n",
      "[164]\tvalidation_0-logloss:0.11717\tvalidation_0-custom_recall:-0.96388\n",
      "[165]\tvalidation_0-logloss:0.11682\tvalidation_0-custom_recall:-0.96388\n",
      "[166]\tvalidation_0-logloss:0.11631\tvalidation_0-custom_recall:-0.96388\n",
      "[167]\tvalidation_0-logloss:0.11576\tvalidation_0-custom_recall:-0.96388\n",
      "[168]\tvalidation_0-logloss:0.11548\tvalidation_0-custom_recall:-0.96662\n",
      "[169]\tvalidation_0-logloss:0.11539\tvalidation_0-custom_recall:-0.96662\n",
      "[170]\tvalidation_0-logloss:0.11552\tvalidation_0-custom_recall:-0.96388\n",
      "[171]\tvalidation_0-logloss:0.11504\tvalidation_0-custom_recall:-0.96388\n",
      "[172]\tvalidation_0-logloss:0.11454\tvalidation_0-custom_recall:-0.96388\n",
      "[173]\tvalidation_0-logloss:0.11429\tvalidation_0-custom_recall:-0.96662\n",
      "[174]\tvalidation_0-logloss:0.11389\tvalidation_0-custom_recall:-0.96662\n",
      "[175]\tvalidation_0-logloss:0.11372\tvalidation_0-custom_recall:-0.96662\n",
      "[176]\tvalidation_0-logloss:0.11316\tvalidation_0-custom_recall:-0.96623\n",
      "[177]\tvalidation_0-logloss:0.11290\tvalidation_0-custom_recall:-0.96623\n",
      "[178]\tvalidation_0-logloss:0.11236\tvalidation_0-custom_recall:-0.96623\n",
      "[179]\tvalidation_0-logloss:0.11195\tvalidation_0-custom_recall:-0.96623\n",
      "[180]\tvalidation_0-logloss:0.11177\tvalidation_0-custom_recall:-0.96623\n",
      "[181]\tvalidation_0-logloss:0.11142\tvalidation_0-custom_recall:-0.96623\n",
      "[182]\tvalidation_0-logloss:0.11103\tvalidation_0-custom_recall:-0.96623\n",
      "[183]\tvalidation_0-logloss:0.11078\tvalidation_0-custom_recall:-0.96623\n",
      "[184]\tvalidation_0-logloss:0.11048\tvalidation_0-custom_recall:-0.96623\n",
      "[185]\tvalidation_0-logloss:0.11054\tvalidation_0-custom_recall:-0.96623\n",
      "[186]\tvalidation_0-logloss:0.11063\tvalidation_0-custom_recall:-0.96623\n",
      "[187]\tvalidation_0-logloss:0.11038\tvalidation_0-custom_recall:-0.96623\n",
      "[188]\tvalidation_0-logloss:0.11044\tvalidation_0-custom_recall:-0.96623\n",
      "[189]\tvalidation_0-logloss:0.11025\tvalidation_0-custom_recall:-0.96623\n",
      "[190]\tvalidation_0-logloss:0.11020\tvalidation_0-custom_recall:-0.96623\n",
      "[191]\tvalidation_0-logloss:0.11002\tvalidation_0-custom_recall:-0.96623\n",
      "[192]\tvalidation_0-logloss:0.11012\tvalidation_0-custom_recall:-0.96623\n",
      "[193]\tvalidation_0-logloss:0.10960\tvalidation_0-custom_recall:-0.96623\n",
      "[194]\tvalidation_0-logloss:0.10919\tvalidation_0-custom_recall:-0.96623\n",
      "[195]\tvalidation_0-logloss:0.10908\tvalidation_0-custom_recall:-0.96623\n",
      "[196]\tvalidation_0-logloss:0.10890\tvalidation_0-custom_recall:-0.96623\n",
      "[197]\tvalidation_0-logloss:0.10846\tvalidation_0-custom_recall:-0.96623\n",
      "[198]\tvalidation_0-logloss:0.10809\tvalidation_0-custom_recall:-0.96623\n",
      "[199]\tvalidation_0-logloss:0.10772\tvalidation_0-custom_recall:-0.96623\n",
      "[200]\tvalidation_0-logloss:0.10756\tvalidation_0-custom_recall:-0.96623\n",
      "[201]\tvalidation_0-logloss:0.10728\tvalidation_0-custom_recall:-0.96623\n",
      "[202]\tvalidation_0-logloss:0.10689\tvalidation_0-custom_recall:-0.96623\n",
      "[203]\tvalidation_0-logloss:0.10665\tvalidation_0-custom_recall:-0.96662\n",
      "[204]\tvalidation_0-logloss:0.10634\tvalidation_0-custom_recall:-0.96662\n",
      "[205]\tvalidation_0-logloss:0.10624\tvalidation_0-custom_recall:-0.96662\n",
      "[206]\tvalidation_0-logloss:0.10598\tvalidation_0-custom_recall:-0.96623\n",
      "[207]\tvalidation_0-logloss:0.10594\tvalidation_0-custom_recall:-0.96623\n",
      "[208]\tvalidation_0-logloss:0.10612\tvalidation_0-custom_recall:-0.96623\n",
      "[209]\tvalidation_0-logloss:0.10630\tvalidation_0-custom_recall:-0.96623\n",
      "[210]\tvalidation_0-logloss:0.10614\tvalidation_0-custom_recall:-0.96623\n",
      "[211]\tvalidation_0-logloss:0.10588\tvalidation_0-custom_recall:-0.96623\n",
      "[212]\tvalidation_0-logloss:0.10569\tvalidation_0-custom_recall:-0.96583\n",
      "[213]\tvalidation_0-logloss:0.10544\tvalidation_0-custom_recall:-0.96583\n",
      "[214]\tvalidation_0-logloss:0.10568\tvalidation_0-custom_recall:-0.96583\n",
      "[215]\tvalidation_0-logloss:0.10553\tvalidation_0-custom_recall:-0.96583\n",
      "[216]\tvalidation_0-logloss:0.10522\tvalidation_0-custom_recall:-0.96583\n",
      "[217]\tvalidation_0-logloss:0.10477\tvalidation_0-custom_recall:-0.96583\n",
      "[218]\tvalidation_0-logloss:0.10469\tvalidation_0-custom_recall:-0.96583\n",
      "[219]\tvalidation_0-logloss:0.10461\tvalidation_0-custom_recall:-0.96583\n",
      "[220]\tvalidation_0-logloss:0.10420\tvalidation_0-custom_recall:-0.96623\n",
      "[221]\tvalidation_0-logloss:0.10403\tvalidation_0-custom_recall:-0.96623\n",
      "[222]\tvalidation_0-logloss:0.10376\tvalidation_0-custom_recall:-0.96623\n",
      "[223]\tvalidation_0-logloss:0.10359\tvalidation_0-custom_recall:-0.96623\n",
      "[224]\tvalidation_0-logloss:0.10379\tvalidation_0-custom_recall:-0.96623\n",
      "[225]\tvalidation_0-logloss:0.10398\tvalidation_0-custom_recall:-0.96623\n",
      "[226]\tvalidation_0-logloss:0.10374\tvalidation_0-custom_recall:-0.96623\n",
      "[227]\tvalidation_0-logloss:0.10331\tvalidation_0-custom_recall:-0.96623\n",
      "[228]\tvalidation_0-logloss:0.10334\tvalidation_0-custom_recall:-0.96583\n",
      "[229]\tvalidation_0-logloss:0.10291\tvalidation_0-custom_recall:-0.96623\n",
      "[230]\tvalidation_0-logloss:0.10275\tvalidation_0-custom_recall:-0.96583\n"
     ]
    },
    {
     "name": "stdout",
     "output_type": "stream",
     "text": [
      "[231]\tvalidation_0-logloss:0.10250\tvalidation_0-custom_recall:-0.96583\n",
      "[232]\tvalidation_0-logloss:0.10270\tvalidation_0-custom_recall:-0.96583\n",
      "[233]\tvalidation_0-logloss:0.10229\tvalidation_0-custom_recall:-0.96583\n",
      "[234]\tvalidation_0-logloss:0.10206\tvalidation_0-custom_recall:-0.96583\n",
      "[235]\tvalidation_0-logloss:0.10205\tvalidation_0-custom_recall:-0.96583\n",
      "[236]\tvalidation_0-logloss:0.10175\tvalidation_0-custom_recall:-0.96623\n",
      "[237]\tvalidation_0-logloss:0.10150\tvalidation_0-custom_recall:-0.96583\n",
      "[238]\tvalidation_0-logloss:0.10152\tvalidation_0-custom_recall:-0.96583\n",
      "[239]\tvalidation_0-logloss:0.10143\tvalidation_0-custom_recall:-0.96583\n",
      "[240]\tvalidation_0-logloss:0.10118\tvalidation_0-custom_recall:-0.96583\n",
      "[241]\tvalidation_0-logloss:0.10109\tvalidation_0-custom_recall:-0.96583\n",
      "[242]\tvalidation_0-logloss:0.10085\tvalidation_0-custom_recall:-0.96583\n",
      "[243]\tvalidation_0-logloss:0.10042\tvalidation_0-custom_recall:-0.96583\n",
      "[244]\tvalidation_0-logloss:0.10012\tvalidation_0-custom_recall:-0.96583\n",
      "[245]\tvalidation_0-logloss:0.09997\tvalidation_0-custom_recall:-0.96583\n",
      "[246]\tvalidation_0-logloss:0.09982\tvalidation_0-custom_recall:-0.96583\n",
      "[247]\tvalidation_0-logloss:0.09978\tvalidation_0-custom_recall:-0.96583\n",
      "[248]\tvalidation_0-logloss:0.09963\tvalidation_0-custom_recall:-0.96583\n",
      "[249]\tvalidation_0-logloss:0.09944\tvalidation_0-custom_recall:-0.96583\n",
      "[250]\tvalidation_0-logloss:0.09941\tvalidation_0-custom_recall:-0.96583\n",
      "[251]\tvalidation_0-logloss:0.09940\tvalidation_0-custom_recall:-0.96583\n",
      "[252]\tvalidation_0-logloss:0.09901\tvalidation_0-custom_recall:-0.96583\n",
      "[253]\tvalidation_0-logloss:0.09892\tvalidation_0-custom_recall:-0.96583\n",
      "[254]\tvalidation_0-logloss:0.09860\tvalidation_0-custom_recall:-0.96583\n",
      "[255]\tvalidation_0-logloss:0.09872\tvalidation_0-custom_recall:-0.96583\n",
      "[256]\tvalidation_0-logloss:0.09840\tvalidation_0-custom_recall:-0.96583\n",
      "[257]\tvalidation_0-logloss:0.09810\tvalidation_0-custom_recall:-0.96623\n",
      "[258]\tvalidation_0-logloss:0.09784\tvalidation_0-custom_recall:-0.96623\n",
      "[259]\tvalidation_0-logloss:0.09787\tvalidation_0-custom_recall:-0.96583\n",
      "[260]\tvalidation_0-logloss:0.09781\tvalidation_0-custom_recall:-0.96583\n",
      "[261]\tvalidation_0-logloss:0.09779\tvalidation_0-custom_recall:-0.96583\n",
      "[262]\tvalidation_0-logloss:0.09762\tvalidation_0-custom_recall:-0.96583\n",
      "[263]\tvalidation_0-logloss:0.09727\tvalidation_0-custom_recall:-0.96583\n",
      "[264]\tvalidation_0-logloss:0.09707\tvalidation_0-custom_recall:-0.96583\n",
      "[265]\tvalidation_0-logloss:0.09717\tvalidation_0-custom_recall:-0.96583\n",
      "[266]\tvalidation_0-logloss:0.09705\tvalidation_0-custom_recall:-0.96583\n",
      "[267]\tvalidation_0-logloss:0.09657\tvalidation_0-custom_recall:-0.96583\n",
      "[268]\tvalidation_0-logloss:0.09624\tvalidation_0-custom_recall:-0.96583\n",
      "[269]\tvalidation_0-logloss:0.09582\tvalidation_0-custom_recall:-0.96623\n",
      "[270]\tvalidation_0-logloss:0.09574\tvalidation_0-custom_recall:-0.96583\n",
      "[271]\tvalidation_0-logloss:0.09576\tvalidation_0-custom_recall:-0.96583\n",
      "[272]\tvalidation_0-logloss:0.09537\tvalidation_0-custom_recall:-0.96583\n",
      "[273]\tvalidation_0-logloss:0.09528\tvalidation_0-custom_recall:-0.96583\n",
      "[274]\tvalidation_0-logloss:0.09530\tvalidation_0-custom_recall:-0.96583\n",
      "[275]\tvalidation_0-logloss:0.09517\tvalidation_0-custom_recall:-0.96544\n",
      "[276]\tvalidation_0-logloss:0.09492\tvalidation_0-custom_recall:-0.96544\n",
      "[277]\tvalidation_0-logloss:0.09503\tvalidation_0-custom_recall:-0.96544\n",
      "[278]\tvalidation_0-logloss:0.09521\tvalidation_0-custom_recall:-0.96544\n",
      "[279]\tvalidation_0-logloss:0.09501\tvalidation_0-custom_recall:-0.96544\n",
      "[280]\tvalidation_0-logloss:0.09504\tvalidation_0-custom_recall:-0.96544\n",
      "[281]\tvalidation_0-logloss:0.09476\tvalidation_0-custom_recall:-0.96544\n",
      "[282]\tvalidation_0-logloss:0.09469\tvalidation_0-custom_recall:-0.96544\n",
      "[283]\tvalidation_0-logloss:0.09443\tvalidation_0-custom_recall:-0.96583\n",
      "[284]\tvalidation_0-logloss:0.09439\tvalidation_0-custom_recall:-0.96583\n",
      "[285]\tvalidation_0-logloss:0.09430\tvalidation_0-custom_recall:-0.96544\n",
      "[286]\tvalidation_0-logloss:0.09405\tvalidation_0-custom_recall:-0.96583\n",
      "[287]\tvalidation_0-logloss:0.09415\tvalidation_0-custom_recall:-0.96583\n",
      "[288]\tvalidation_0-logloss:0.09423\tvalidation_0-custom_recall:-0.96583\n",
      "[289]\tvalidation_0-logloss:0.09426\tvalidation_0-custom_recall:-0.96583\n",
      "[290]\tvalidation_0-logloss:0.09416\tvalidation_0-custom_recall:-0.96505\n",
      "[291]\tvalidation_0-logloss:0.09419\tvalidation_0-custom_recall:-0.96505\n",
      "[292]\tvalidation_0-logloss:0.09411\tvalidation_0-custom_recall:-0.96505\n",
      "[293]\tvalidation_0-logloss:0.09372\tvalidation_0-custom_recall:-0.96505\n",
      "[294]\tvalidation_0-logloss:0.09362\tvalidation_0-custom_recall:-0.96505\n",
      "[295]\tvalidation_0-logloss:0.09344\tvalidation_0-custom_recall:-0.96505\n",
      "[296]\tvalidation_0-logloss:0.09343\tvalidation_0-custom_recall:-0.96505\n",
      "[297]\tvalidation_0-logloss:0.09343\tvalidation_0-custom_recall:-0.96505\n",
      "[298]\tvalidation_0-logloss:0.09340\tvalidation_0-custom_recall:-0.96505\n",
      "[299]\tvalidation_0-logloss:0.09314\tvalidation_0-custom_recall:-0.96505\n",
      "Wall time: 32.4 s\n"
     ]
    }
   ],
   "source": [
    "%%time\n",
    "clf_takson_not_relev = xgb.XGBClassifier(n_estimators=300, max_depth=5, learning_rate=0.03,\n",
    "                                         subsample=0.8, colsample_bytree=0.8, colsample_bynode=0.7, \n",
    "                                         eval_metric=custom_recall,\n",
    "                                         random_state=RANDOM_STATE)\n",
    "\n",
    "clf_takson_not_relev_fit = fit_func(clf_takson_not_relev, \n",
    "                                    X_train_stack_takson_rel, y_train['Таксономия не релевантные'],\n",
    "                                    X_test_stack_takson_rel, y_test['Таксономия не релевантные'])"
   ]
  },
  {
   "cell_type": "code",
   "execution_count": 42,
   "metadata": {},
   "outputs": [],
   "source": [
    "pred_proba_train_takson_not_relev = pred_proba_func(clf_takson_not_relev_fit, \n",
    "                                  X_train_stack_takson_rel, \n",
    "                                  label='Таксономия не релевантные')\n",
    "\n",
    "pred_proba_takson_not_relev = pred_proba_func(clf_takson_not_relev_fit, \n",
    "                                  X_test_stack_takson_rel, \n",
    "                                  label='Таксономия не релевантные')\n",
    "\n",
    "\n",
    "pred_takson_not_relev = pred_func(clf_takson_not_relev_fit, \n",
    "                                  X_test_stack_takson_rel, \n",
    "                                  label='Таксономия не релевантные')"
   ]
  },
  {
   "cell_type": "code",
   "execution_count": 43,
   "metadata": {},
   "outputs": [
    {
     "name": "stdout",
     "output_type": "stream",
     "text": [
      "XGBClassifier\n",
      "recall Таксономия не релевантные 0.9650471575668427\n",
      "\n",
      "Feature_importances Таксономия не релевантные:\n",
      " филь      0.024\n",
      "родо       0.019\n",
      "ждать      0.019\n",
      "одолже     0.018\n",
      "иковы      0.017\n",
      " фил       0.016\n",
      "филь       0.015\n",
      "овый       0.014\n",
      "долже      0.013\n",
      "овый       0.012\n",
      "ковы       0.011\n",
      "фильм      0.011\n",
      "фил        0.010\n",
      " продол    0.010\n",
      "ерпен      0.009\n",
      "етерп      0.009\n",
      "етер       0.009\n",
      "льм        0.008\n",
      "ый б       0.008\n",
      "овы        0.008\n",
      "dtype: float32\n"
     ]
    },
    {
     "data": {
      "image/png": "[encoded data removed]",
      "text/plain": [
       "<Figure size 720x360 with 4 Axes>"
      ]
     },
     "metadata": {
      "needs_background": "light"
     },
     "output_type": "display_data"
    }
   ],
   "source": [
    "recall_takson_not_relev = recall_score(y_test['Таксономия не релевантные'], \n",
    "                                   pred_takson_not_relev[1], average='macro', zero_division=True)\n",
    "view_test(y_test['Таксономия не релевантные'], pred_takson_not_relev, feats_lem+['Таксономия релевантные'])"
   ]
  },
  {
   "cell_type": "markdown",
   "metadata": {},
   "source": [
    "### test Ценности"
   ]
  },
  {
   "cell_type": "code",
   "execution_count": 44,
   "metadata": {},
   "outputs": [],
   "source": [
    "X_train_stack_takson_not_rel = hstack([X_train_lem, \n",
    "                                       csr_matrix(np.round(pred_proba_train_takson_relev[1]).reshape(-1, 1)),\n",
    "                                       csr_matrix(np.round(pred_proba_train_takson_not_relev[1]).reshape(-1, 1))])\n",
    "X_test_stack_takson_not_rel = hstack([X_test_lem, \n",
    "                                      csr_matrix(np.round(pred_proba_takson_relev[1]).reshape(-1, 1)),\n",
    "                                      csr_matrix(np.round(pred_proba_takson_not_relev[1]).reshape(-1, 1))])"
   ]
  },
  {
   "cell_type": "code",
   "execution_count": 45,
   "metadata": {
    "scrolled": true
   },
   "outputs": [
    {
     "name": "stdout",
     "output_type": "stream",
     "text": [
      "y\n",
      "1    1847\n",
      "0    1540\n",
      "Name: Ценности, dtype: int64\n",
      "\n",
      "After resample\n",
      "1    1540\n",
      "0    1540\n",
      "Name: Ценности, dtype: int64\n",
      "38971\n",
      "[1]\tvalid_0's binary_logloss: 0.622124\n",
      "[2]\tvalid_0's binary_logloss: 0.563601\n",
      "[3]\tvalid_0's binary_logloss: 0.515369\n",
      "[4]\tvalid_0's binary_logloss: 0.474887\n",
      "[5]\tvalid_0's binary_logloss: 0.439259\n",
      "[6]\tvalid_0's binary_logloss: 0.408959\n",
      "[7]\tvalid_0's binary_logloss: 0.383522\n",
      "[8]\tvalid_0's binary_logloss: 0.360534\n",
      "[9]\tvalid_0's binary_logloss: 0.342878\n",
      "[10]\tvalid_0's binary_logloss: 0.324559\n",
      "[11]\tvalid_0's binary_logloss: 0.308402\n",
      "[12]\tvalid_0's binary_logloss: 0.294773\n",
      "[13]\tvalid_0's binary_logloss: 0.282052\n",
      "[14]\tvalid_0's binary_logloss: 0.271979\n",
      "[15]\tvalid_0's binary_logloss: 0.260854\n",
      "[16]\tvalid_0's binary_logloss: 0.253008\n",
      "[17]\tvalid_0's binary_logloss: 0.244016\n",
      "[18]\tvalid_0's binary_logloss: 0.237274\n",
      "[19]\tvalid_0's binary_logloss: 0.229962\n",
      "[20]\tvalid_0's binary_logloss: 0.222806\n",
      "[21]\tvalid_0's binary_logloss: 0.2164\n",
      "[22]\tvalid_0's binary_logloss: 0.211498\n",
      "[23]\tvalid_0's binary_logloss: 0.206347\n",
      "[24]\tvalid_0's binary_logloss: 0.200606\n",
      "[25]\tvalid_0's binary_logloss: 0.195982\n",
      "[26]\tvalid_0's binary_logloss: 0.192063\n",
      "[27]\tvalid_0's binary_logloss: 0.190226\n",
      "[28]\tvalid_0's binary_logloss: 0.188394\n",
      "[29]\tvalid_0's binary_logloss: 0.184853\n",
      "[30]\tvalid_0's binary_logloss: 0.183491\n",
      "[31]\tvalid_0's binary_logloss: 0.181982\n",
      "[32]\tvalid_0's binary_logloss: 0.180367\n",
      "[33]\tvalid_0's binary_logloss: 0.179805\n",
      "[34]\tvalid_0's binary_logloss: 0.178619\n",
      "[35]\tvalid_0's binary_logloss: 0.17746\n",
      "[36]\tvalid_0's binary_logloss: 0.17764\n",
      "[37]\tvalid_0's binary_logloss: 0.17591\n",
      "[38]\tvalid_0's binary_logloss: 0.176192\n",
      "[39]\tvalid_0's binary_logloss: 0.17534\n",
      "[40]\tvalid_0's binary_logloss: 0.174626\n",
      "[41]\tvalid_0's binary_logloss: 0.1738\n",
      "[42]\tvalid_0's binary_logloss: 0.17261\n",
      "[43]\tvalid_0's binary_logloss: 0.172323\n",
      "[44]\tvalid_0's binary_logloss: 0.172861\n",
      "[45]\tvalid_0's binary_logloss: 0.172147\n",
      "[46]\tvalid_0's binary_logloss: 0.172889\n",
      "[47]\tvalid_0's binary_logloss: 0.172031\n",
      "[48]\tvalid_0's binary_logloss: 0.172218\n",
      "[49]\tvalid_0's binary_logloss: 0.172107\n",
      "[50]\tvalid_0's binary_logloss: 0.171963\n",
      "[51]\tvalid_0's binary_logloss: 0.172194\n",
      "[52]\tvalid_0's binary_logloss: 0.171214\n",
      "[53]\tvalid_0's binary_logloss: 0.171112\n",
      "[54]\tvalid_0's binary_logloss: 0.171069\n",
      "[55]\tvalid_0's binary_logloss: 0.171017\n",
      "[56]\tvalid_0's binary_logloss: 0.171084\n",
      "[57]\tvalid_0's binary_logloss: 0.171705\n",
      "[58]\tvalid_0's binary_logloss: 0.171339\n",
      "[59]\tvalid_0's binary_logloss: 0.171508\n",
      "[60]\tvalid_0's binary_logloss: 0.17196\n",
      "[61]\tvalid_0's binary_logloss: 0.172111\n",
      "[62]\tvalid_0's binary_logloss: 0.172748\n",
      "[63]\tvalid_0's binary_logloss: 0.173275\n",
      "[64]\tvalid_0's binary_logloss: 0.173427\n",
      "[65]\tvalid_0's binary_logloss: 0.173001\n",
      "[66]\tvalid_0's binary_logloss: 0.173304\n",
      "[67]\tvalid_0's binary_logloss: 0.173357\n",
      "[68]\tvalid_0's binary_logloss: 0.173953\n",
      "[69]\tvalid_0's binary_logloss: 0.174619\n",
      "[70]\tvalid_0's binary_logloss: 0.175323\n",
      "[71]\tvalid_0's binary_logloss: 0.174984\n",
      "[72]\tvalid_0's binary_logloss: 0.175709\n",
      "[73]\tvalid_0's binary_logloss: 0.175484\n",
      "[74]\tvalid_0's binary_logloss: 0.175493\n",
      "[75]\tvalid_0's binary_logloss: 0.175825\n",
      "[76]\tvalid_0's binary_logloss: 0.176315\n",
      "[77]\tvalid_0's binary_logloss: 0.176853\n",
      "[78]\tvalid_0's binary_logloss: 0.177506\n",
      "[79]\tvalid_0's binary_logloss: 0.177712\n",
      "[80]\tvalid_0's binary_logloss: 0.17815\n",
      "[81]\tvalid_0's binary_logloss: 0.178825\n",
      "[82]\tvalid_0's binary_logloss: 0.179345\n",
      "[83]\tvalid_0's binary_logloss: 0.179516\n",
      "[84]\tvalid_0's binary_logloss: 0.179687\n",
      "[85]\tvalid_0's binary_logloss: 0.180158\n",
      "[86]\tvalid_0's binary_logloss: 0.180222\n",
      "[87]\tvalid_0's binary_logloss: 0.181069\n",
      "[88]\tvalid_0's binary_logloss: 0.181164\n",
      "[89]\tvalid_0's binary_logloss: 0.181756\n",
      "[90]\tvalid_0's binary_logloss: 0.181744\n",
      "[91]\tvalid_0's binary_logloss: 0.1825\n",
      "[92]\tvalid_0's binary_logloss: 0.183164\n",
      "[93]\tvalid_0's binary_logloss: 0.183461\n",
      "[94]\tvalid_0's binary_logloss: 0.183873\n",
      "[95]\tvalid_0's binary_logloss: 0.184817\n",
      "[96]\tvalid_0's binary_logloss: 0.185539\n",
      "[97]\tvalid_0's binary_logloss: 0.186057\n",
      "[98]\tvalid_0's binary_logloss: 0.186879\n",
      "[99]\tvalid_0's binary_logloss: 0.187551\n",
      "[100]\tvalid_0's binary_logloss: 0.187916\n",
      "Wall time: 34.1 s\n"
     ]
    }
   ],
   "source": [
    "%%time\n",
    "clf_cen = lgb.LGBMClassifier(random_state=RANDOM_STATE)\n",
    "\n",
    "clf_cen_fit = fit_func(clf_cen, X_train_stack_takson_not_rel, y_train['Ценности'], \n",
    "                       X_test_stack_takson_not_rel, y_test['Ценности'])"
   ]
  },
  {
   "cell_type": "code",
   "execution_count": 46,
   "metadata": {},
   "outputs": [],
   "source": [
    "pred_proba_train_cen = pred_proba_func(clf_cen_fit, X_train_stack_takson_not_rel, label='Ценности')\n",
    "pred_proba_cen = pred_proba_func(clf_cen_fit, X_test_stack_takson_not_rel, label='Ценности')\n",
    "\n",
    "pred_cen = pred_func(clf_cen_fit, X_test_stack_takson_not_rel, label='Ценности')"
   ]
  },
  {
   "cell_type": "code",
   "execution_count": 47,
   "metadata": {},
   "outputs": [
    {
     "name": "stdout",
     "output_type": "stream",
     "text": [
      "LGBMClassifier\n",
      "recall Ценности 0.9471191972183248\n",
      "\n",
      "Feature_importances Ценности:\n",
      "жизнь         69\n",
      "день          61\n",
      "мир           61\n",
      " любовь       56\n",
      "труд          51\n",
      "дело          50\n",
      " семья        49\n",
      " правда       44\n",
      "душевны       44\n",
      " уваже        43\n",
      "работа        37\n",
      " вниман       36\n",
      " сила         35\n",
      "пряжени       32\n",
      "влас          31\n",
      "цель          31\n",
      "оинс          28\n",
      "внутренний    28\n",
      "весть         26\n",
      "ернос         25\n",
      "dtype: int32\n"
     ]
    },
    {
     "data": {
      "image/png": "[encoded data removed]",
      "text/plain": [
       "<Figure size 720x360 with 4 Axes>"
      ]
     },
     "metadata": {
      "needs_background": "light"
     },
     "output_type": "display_data"
    }
   ],
   "source": [
    "recall_cen = recall_score(y_test['Ценности'], \n",
    "                                   pred_cen[1], average='macro', zero_division=True)\n",
    "view_test(y_test['Ценности'], pred_cen, feats_lem+['Таксономия релевантные']+['Таксономия не релевантные'])"
   ]
  },
  {
   "cell_type": "markdown",
   "metadata": {},
   "source": [
    "### test Длина отзыва"
   ]
  },
  {
   "cell_type": "code",
   "execution_count": 48,
   "metadata": {},
   "outputs": [],
   "source": [
    "X_train_stack_cen = hstack([X_train, \n",
    "                          csr_matrix(np.round(pred_proba_train_takson_relev[1].reshape(-1, 1))),\n",
    "                           csr_matrix(np.round(pred_proba_train_takson_not_relev[1].reshape(-1, 1))),\n",
    "                           csr_matrix(np.round(pred_proba_train_cen[1].reshape(-1, 1)))\n",
    "                           ])\n",
    "X_test_stack_cen = hstack([X_test, \n",
    "                           csr_matrix(pred_takson_relev[1].reshape(-1, 1)),\n",
    "                           csr_matrix(pred_takson_not_relev[1].reshape(-1, 1)),\n",
    "                           csr_matrix(pred_cen[1].reshape(-1, 1)),\n",
    "                            ])"
   ]
  },
  {
   "cell_type": "code",
   "execution_count": 49,
   "metadata": {
    "scrolled": true
   },
   "outputs": [
    {
     "name": "stdout",
     "output_type": "stream",
     "text": [
      "y\n",
      "0    2588\n",
      "1     799\n",
      "Name: Длина отзыва, dtype: int64\n",
      "\n",
      "After resample\n",
      "0    799\n",
      "1    799\n",
      "Name: Длина отзыва, dtype: int64\n",
      "41911\n",
      "[1]\tvalid_0's binary_logloss: 0.653351\n",
      "[2]\tvalid_0's binary_logloss: 0.62044\n",
      "[3]\tvalid_0's binary_logloss: 0.593544\n",
      "[4]\tvalid_0's binary_logloss: 0.573121\n",
      "[5]\tvalid_0's binary_logloss: 0.553348\n",
      "[6]\tvalid_0's binary_logloss: 0.535342\n",
      "[7]\tvalid_0's binary_logloss: 0.522779\n",
      "[8]\tvalid_0's binary_logloss: 0.507557\n",
      "[9]\tvalid_0's binary_logloss: 0.493878\n",
      "[10]\tvalid_0's binary_logloss: 0.485906\n",
      "[11]\tvalid_0's binary_logloss: 0.477083\n",
      "[12]\tvalid_0's binary_logloss: 0.468668\n",
      "[13]\tvalid_0's binary_logloss: 0.461223\n",
      "[14]\tvalid_0's binary_logloss: 0.454421\n",
      "[15]\tvalid_0's binary_logloss: 0.448804\n",
      "[16]\tvalid_0's binary_logloss: 0.445933\n",
      "[17]\tvalid_0's binary_logloss: 0.441316\n",
      "[18]\tvalid_0's binary_logloss: 0.439857\n",
      "[19]\tvalid_0's binary_logloss: 0.435934\n",
      "[20]\tvalid_0's binary_logloss: 0.432484\n",
      "[21]\tvalid_0's binary_logloss: 0.428646\n",
      "[22]\tvalid_0's binary_logloss: 0.424091\n",
      "[23]\tvalid_0's binary_logloss: 0.42079\n",
      "[24]\tvalid_0's binary_logloss: 0.415701\n",
      "[25]\tvalid_0's binary_logloss: 0.413442\n",
      "[26]\tvalid_0's binary_logloss: 0.410556\n",
      "[27]\tvalid_0's binary_logloss: 0.408975\n",
      "[28]\tvalid_0's binary_logloss: 0.406551\n",
      "[29]\tvalid_0's binary_logloss: 0.406252\n",
      "[30]\tvalid_0's binary_logloss: 0.405129\n",
      "[31]\tvalid_0's binary_logloss: 0.403174\n",
      "[32]\tvalid_0's binary_logloss: 0.403299\n",
      "[33]\tvalid_0's binary_logloss: 0.401927\n",
      "[34]\tvalid_0's binary_logloss: 0.401386\n",
      "[35]\tvalid_0's binary_logloss: 0.400394\n",
      "[36]\tvalid_0's binary_logloss: 0.399332\n",
      "[37]\tvalid_0's binary_logloss: 0.398019\n",
      "[38]\tvalid_0's binary_logloss: 0.396237\n",
      "[39]\tvalid_0's binary_logloss: 0.394096\n",
      "[40]\tvalid_0's binary_logloss: 0.393771\n",
      "[41]\tvalid_0's binary_logloss: 0.391786\n",
      "[42]\tvalid_0's binary_logloss: 0.392169\n",
      "[43]\tvalid_0's binary_logloss: 0.391494\n",
      "[44]\tvalid_0's binary_logloss: 0.392083\n",
      "[45]\tvalid_0's binary_logloss: 0.392084\n",
      "[46]\tvalid_0's binary_logloss: 0.390794\n",
      "[47]\tvalid_0's binary_logloss: 0.391705\n",
      "[48]\tvalid_0's binary_logloss: 0.391179\n",
      "[49]\tvalid_0's binary_logloss: 0.391589\n",
      "[50]\tvalid_0's binary_logloss: 0.390815\n",
      "[51]\tvalid_0's binary_logloss: 0.391029\n",
      "[52]\tvalid_0's binary_logloss: 0.392227\n",
      "[53]\tvalid_0's binary_logloss: 0.390935\n",
      "[54]\tvalid_0's binary_logloss: 0.390808\n",
      "[55]\tvalid_0's binary_logloss: 0.391528\n",
      "[56]\tvalid_0's binary_logloss: 0.392241\n",
      "[57]\tvalid_0's binary_logloss: 0.391956\n",
      "[58]\tvalid_0's binary_logloss: 0.392901\n",
      "[59]\tvalid_0's binary_logloss: 0.394475\n",
      "[60]\tvalid_0's binary_logloss: 0.395484\n",
      "[61]\tvalid_0's binary_logloss: 0.395204\n",
      "[62]\tvalid_0's binary_logloss: 0.396082\n",
      "[63]\tvalid_0's binary_logloss: 0.396979\n",
      "[64]\tvalid_0's binary_logloss: 0.399081\n",
      "[65]\tvalid_0's binary_logloss: 0.399833\n",
      "[66]\tvalid_0's binary_logloss: 0.399619\n",
      "[67]\tvalid_0's binary_logloss: 0.399998\n",
      "[68]\tvalid_0's binary_logloss: 0.401306\n",
      "[69]\tvalid_0's binary_logloss: 0.40323\n",
      "[70]\tvalid_0's binary_logloss: 0.402683\n",
      "[71]\tvalid_0's binary_logloss: 0.401413\n",
      "[72]\tvalid_0's binary_logloss: 0.402565\n",
      "[73]\tvalid_0's binary_logloss: 0.403718\n",
      "[74]\tvalid_0's binary_logloss: 0.404401\n",
      "[75]\tvalid_0's binary_logloss: 0.405545\n",
      "[76]\tvalid_0's binary_logloss: 0.406275\n",
      "[77]\tvalid_0's binary_logloss: 0.406969\n",
      "[78]\tvalid_0's binary_logloss: 0.407593\n",
      "[79]\tvalid_0's binary_logloss: 0.407335\n",
      "[80]\tvalid_0's binary_logloss: 0.408667\n",
      "[81]\tvalid_0's binary_logloss: 0.409868\n",
      "[82]\tvalid_0's binary_logloss: 0.411958\n",
      "[83]\tvalid_0's binary_logloss: 0.414988\n",
      "[84]\tvalid_0's binary_logloss: 0.414827\n",
      "[85]\tvalid_0's binary_logloss: 0.415841\n",
      "[86]\tvalid_0's binary_logloss: 0.415726\n",
      "[87]\tvalid_0's binary_logloss: 0.416411\n",
      "[88]\tvalid_0's binary_logloss: 0.419444\n",
      "[89]\tvalid_0's binary_logloss: 0.419797\n",
      "[90]\tvalid_0's binary_logloss: 0.421146\n",
      "[91]\tvalid_0's binary_logloss: 0.422054\n",
      "[92]\tvalid_0's binary_logloss: 0.422983\n",
      "[93]\tvalid_0's binary_logloss: 0.424634\n",
      "[94]\tvalid_0's binary_logloss: 0.424727\n",
      "[95]\tvalid_0's binary_logloss: 0.425226\n",
      "[96]\tvalid_0's binary_logloss: 0.42559\n",
      "[97]\tvalid_0's binary_logloss: 0.427555\n",
      "[98]\tvalid_0's binary_logloss: 0.428557\n",
      "[99]\tvalid_0's binary_logloss: 0.430575\n",
      "[100]\tvalid_0's binary_logloss: 0.433563\n",
      "Wall time: 12.9 s\n"
     ]
    }
   ],
   "source": [
    "%%time\n",
    "clf_len = lgb.LGBMClassifier(random_state=RANDOM_STATE) \n",
    "\n",
    "clf_len_fit = fit_func(clf_len, X_train_stack_cen, y_train['Длина отзыва'], \n",
    "                       X_test_stack_cen, y_test['Длина отзыва'])"
   ]
  },
  {
   "cell_type": "code",
   "execution_count": 50,
   "metadata": {},
   "outputs": [],
   "source": [
    "pred_proba_train_len = pred_proba_func(clf_len_fit, X_train_stack_cen, label='Длина отзыва')\n",
    "pred_proba_len = pred_proba_func(clf_len_fit, X_test_stack_cen, label='Длина отзыва')\n",
    "\n",
    "pred_len = pred_func(clf_len_fit, X_test_stack_cen, label='Длина отзыва')"
   ]
  },
  {
   "cell_type": "code",
   "execution_count": 51,
   "metadata": {},
   "outputs": [
    {
     "name": "stdout",
     "output_type": "stream",
     "text": [
      "LGBMClassifier\n",
      "recall Длина отзыва 0.8402043884978243\n",
      "\n",
      "Feature_importances Длина отзыва:\n",
      "len_reviews                  94\n",
      "Имя читателя                 62\n",
      "len_reviews_lemmed           51\n",
      "Таксономия релевантные       44\n",
      "Длина отзыва                 43\n",
      "наб                          42\n",
      "лишь                         40\n",
      "фактам                       35\n",
      "Таксономия не релевантные    35\n",
      "вспоминала                   34\n",
      "метит                        34\n",
      "м, ко                        32\n",
      "Лайки на отзыв               31\n",
      "мам                          30\n",
      "после                        23\n",
      "м в                          23\n",
      "мет                          22\n",
      "суро                         21\n",
      "Дислайки на отзыв            21\n",
      "м про                        21\n",
      "dtype: int32\n"
     ]
    },
    {
     "data": {
      "image/png": "[encoded data removed]",
      "text/plain": [
       "<Figure size 720x360 with 4 Axes>"
      ]
     },
     "metadata": {
      "needs_background": "light"
     },
     "output_type": "display_data"
    }
   ],
   "source": [
    "recall_len = recall_score(y_test['Длина отзыва'], pred_len[1], average='macro', zero_division=True)\n",
    "view_test(y_test['Длина отзыва'], pred_len, \n",
    "          feats+['Таксономия релевантные', 'Таксономия не релевантные', 'Длина отзыва'])"
   ]
  },
  {
   "cell_type": "markdown",
   "metadata": {},
   "source": [
    "### test Релевантность"
   ]
  },
  {
   "cell_type": "code",
   "execution_count": 52,
   "metadata": {
    "scrolled": true
   },
   "outputs": [
    {
     "name": "stdout",
     "output_type": "stream",
     "text": [
      "y\n",
      "0    2631\n",
      "1     756\n",
      "Name: Релевантность, dtype: int64\n",
      "\n",
      "After resample\n",
      "0    756\n",
      "1    756\n",
      "Name: Релевантность, dtype: int64\n",
      "41908\n",
      "[0]\tvalidation_0-logloss:0.68694\tvalidation_0-custom_recall:-0.65332\n",
      "[1]\tvalidation_0-logloss:0.68180\tvalidation_0-custom_recall:-0.70153\n",
      "[2]\tvalidation_0-logloss:0.67752\tvalidation_0-custom_recall:-0.68576\n",
      "[3]\tvalidation_0-logloss:0.67306\tvalidation_0-custom_recall:-0.69474\n",
      "[4]\tvalidation_0-logloss:0.66813\tvalidation_0-custom_recall:-0.70292\n",
      "[5]\tvalidation_0-logloss:0.66403\tvalidation_0-custom_recall:-0.70691\n",
      "[6]\tvalidation_0-logloss:0.65939\tvalidation_0-custom_recall:-0.71161\n",
      "[7]\tvalidation_0-logloss:0.65552\tvalidation_0-custom_recall:-0.71223\n",
      "[8]\tvalidation_0-logloss:0.65220\tvalidation_0-custom_recall:-0.71763\n",
      "[9]\tvalidation_0-logloss:0.64818\tvalidation_0-custom_recall:-0.72120\n",
      "[10]\tvalidation_0-logloss:0.64498\tvalidation_0-custom_recall:-0.70683\n",
      "[11]\tvalidation_0-logloss:0.64150\tvalidation_0-custom_recall:-0.71022\n",
      "[12]\tvalidation_0-logloss:0.63906\tvalidation_0-custom_recall:-0.71737\n",
      "[13]\tvalidation_0-logloss:0.63534\tvalidation_0-custom_recall:-0.71248\n",
      "[14]\tvalidation_0-logloss:0.63304\tvalidation_0-custom_recall:-0.71579\n",
      "[15]\tvalidation_0-logloss:0.62968\tvalidation_0-custom_recall:-0.71815\n",
      "[16]\tvalidation_0-logloss:0.62752\tvalidation_0-custom_recall:-0.72155\n",
      "[17]\tvalidation_0-logloss:0.62455\tvalidation_0-custom_recall:-0.72024\n",
      "[18]\tvalidation_0-logloss:0.62216\tvalidation_0-custom_recall:-0.71815\n",
      "[19]\tvalidation_0-logloss:0.61956\tvalidation_0-custom_recall:-0.72155\n",
      "[20]\tvalidation_0-logloss:0.61772\tvalidation_0-custom_recall:-0.71432\n",
      "[21]\tvalidation_0-logloss:0.61551\tvalidation_0-custom_recall:-0.71910\n",
      "[22]\tvalidation_0-logloss:0.61299\tvalidation_0-custom_recall:-0.72206\n",
      "[23]\tvalidation_0-logloss:0.61071\tvalidation_0-custom_recall:-0.71859\n",
      "[24]\tvalidation_0-logloss:0.60846\tvalidation_0-custom_recall:-0.71737\n",
      "[25]\tvalidation_0-logloss:0.60623\tvalidation_0-custom_recall:-0.71946\n",
      "[26]\tvalidation_0-logloss:0.60405\tvalidation_0-custom_recall:-0.71144\n",
      "[27]\tvalidation_0-logloss:0.60198\tvalidation_0-custom_recall:-0.71318\n",
      "[28]\tvalidation_0-logloss:0.59939\tvalidation_0-custom_recall:-0.70770\n",
      "[29]\tvalidation_0-logloss:0.59808\tvalidation_0-custom_recall:-0.70778\n",
      "[30]\tvalidation_0-logloss:0.59645\tvalidation_0-custom_recall:-0.71031\n",
      "[31]\tvalidation_0-logloss:0.59459\tvalidation_0-custom_recall:-0.70909\n",
      "[32]\tvalidation_0-logloss:0.59291\tvalidation_0-custom_recall:-0.71012\n",
      "[33]\tvalidation_0-logloss:0.59112\tvalidation_0-custom_recall:-0.71596\n",
      "[34]\tvalidation_0-logloss:0.58958\tvalidation_0-custom_recall:-0.71727\n",
      "[35]\tvalidation_0-logloss:0.58852\tvalidation_0-custom_recall:-0.72267\n",
      "[36]\tvalidation_0-logloss:0.58691\tvalidation_0-custom_recall:-0.72223\n",
      "[37]\tvalidation_0-logloss:0.58534\tvalidation_0-custom_recall:-0.72101\n",
      "[38]\tvalidation_0-logloss:0.58395\tvalidation_0-custom_recall:-0.71849\n",
      "[39]\tvalidation_0-logloss:0.58300\tvalidation_0-custom_recall:-0.72180\n",
      "[40]\tvalidation_0-logloss:0.58243\tvalidation_0-custom_recall:-0.72650\n",
      "[41]\tvalidation_0-logloss:0.58144\tvalidation_0-custom_recall:-0.72598\n",
      "[42]\tvalidation_0-logloss:0.57993\tvalidation_0-custom_recall:-0.72188\n",
      "[43]\tvalidation_0-logloss:0.57847\tvalidation_0-custom_recall:-0.72066\n",
      "[44]\tvalidation_0-logloss:0.57704\tvalidation_0-custom_recall:-0.72815\n",
      "[45]\tvalidation_0-logloss:0.57594\tvalidation_0-custom_recall:-0.72484\n",
      "[46]\tvalidation_0-logloss:0.57451\tvalidation_0-custom_recall:-0.72615\n",
      "[47]\tvalidation_0-logloss:0.57387\tvalidation_0-custom_recall:-0.72571\n",
      "[48]\tvalidation_0-logloss:0.57296\tvalidation_0-custom_recall:-0.73103\n",
      "[49]\tvalidation_0-logloss:0.57225\tvalidation_0-custom_recall:-0.72354\n",
      "[50]\tvalidation_0-logloss:0.57113\tvalidation_0-custom_recall:-0.72685\n",
      "[51]\tvalidation_0-logloss:0.57051\tvalidation_0-custom_recall:-0.72728\n",
      "[52]\tvalidation_0-logloss:0.56984\tvalidation_0-custom_recall:-0.72815\n",
      "[53]\tvalidation_0-logloss:0.56871\tvalidation_0-custom_recall:-0.73277\n",
      "[54]\tvalidation_0-logloss:0.56784\tvalidation_0-custom_recall:-0.72711\n",
      "[55]\tvalidation_0-logloss:0.56731\tvalidation_0-custom_recall:-0.73051\n",
      "[56]\tvalidation_0-logloss:0.56636\tvalidation_0-custom_recall:-0.72885\n",
      "[57]\tvalidation_0-logloss:0.56598\tvalidation_0-custom_recall:-0.73181\n",
      "[58]\tvalidation_0-logloss:0.56536\tvalidation_0-custom_recall:-0.72929\n",
      "[59]\tvalidation_0-logloss:0.56488\tvalidation_0-custom_recall:-0.73051\n",
      "[60]\tvalidation_0-logloss:0.56431\tvalidation_0-custom_recall:-0.72633\n",
      "[61]\tvalidation_0-logloss:0.56353\tvalidation_0-custom_recall:-0.72920\n",
      "[62]\tvalidation_0-logloss:0.56311\tvalidation_0-custom_recall:-0.72502\n",
      "[63]\tvalidation_0-logloss:0.56251\tvalidation_0-custom_recall:-0.72625\n",
      "[64]\tvalidation_0-logloss:0.56151\tvalidation_0-custom_recall:-0.72798\n",
      "[65]\tvalidation_0-logloss:0.56156\tvalidation_0-custom_recall:-0.73086\n",
      "[66]\tvalidation_0-logloss:0.56070\tvalidation_0-custom_recall:-0.73086\n",
      "[67]\tvalidation_0-logloss:0.56021\tvalidation_0-custom_recall:-0.72964\n",
      "[68]\tvalidation_0-logloss:0.55961\tvalidation_0-custom_recall:-0.73339\n",
      "[69]\tvalidation_0-logloss:0.55919\tvalidation_0-custom_recall:-0.73260\n",
      "[70]\tvalidation_0-logloss:0.55905\tvalidation_0-custom_recall:-0.73504\n",
      "[71]\tvalidation_0-logloss:0.55866\tvalidation_0-custom_recall:-0.73173\n",
      "[72]\tvalidation_0-logloss:0.55826\tvalidation_0-custom_recall:-0.73216\n",
      "[73]\tvalidation_0-logloss:0.55791\tvalidation_0-custom_recall:-0.73382\n",
      "[74]\tvalidation_0-logloss:0.55746\tvalidation_0-custom_recall:-0.73339\n",
      "[75]\tvalidation_0-logloss:0.55729\tvalidation_0-custom_recall:-0.73295\n",
      "[76]\tvalidation_0-logloss:0.55659\tvalidation_0-custom_recall:-0.73417\n",
      "[77]\tvalidation_0-logloss:0.55651\tvalidation_0-custom_recall:-0.73461\n",
      "[78]\tvalidation_0-logloss:0.55620\tvalidation_0-custom_recall:-0.73295\n",
      "[79]\tvalidation_0-logloss:0.55622\tvalidation_0-custom_recall:-0.73548\n",
      "[80]\tvalidation_0-logloss:0.55573\tvalidation_0-custom_recall:-0.73347\n",
      "[81]\tvalidation_0-logloss:0.55564\tvalidation_0-custom_recall:-0.73513\n",
      "[82]\tvalidation_0-logloss:0.55548\tvalidation_0-custom_recall:-0.73303\n",
      "[83]\tvalidation_0-logloss:0.55490\tvalidation_0-custom_recall:-0.73513\n",
      "[84]\tvalidation_0-logloss:0.55443\tvalidation_0-custom_recall:-0.73513\n",
      "[85]\tvalidation_0-logloss:0.55411\tvalidation_0-custom_recall:-0.73879\n",
      "[86]\tvalidation_0-logloss:0.55368\tvalidation_0-custom_recall:-0.74218\n",
      "[87]\tvalidation_0-logloss:0.55318\tvalidation_0-custom_recall:-0.73757\n",
      "[88]\tvalidation_0-logloss:0.55284\tvalidation_0-custom_recall:-0.73922\n",
      "[89]\tvalidation_0-logloss:0.55277\tvalidation_0-custom_recall:-0.73922\n",
      "[90]\tvalidation_0-logloss:0.55224\tvalidation_0-custom_recall:-0.73879\n",
      "[91]\tvalidation_0-logloss:0.55203\tvalidation_0-custom_recall:-0.74044\n",
      "[92]\tvalidation_0-logloss:0.55189\tvalidation_0-custom_recall:-0.74088\n",
      "[93]\tvalidation_0-logloss:0.55129\tvalidation_0-custom_recall:-0.73844\n",
      "[94]\tvalidation_0-logloss:0.55120\tvalidation_0-custom_recall:-0.73887\n",
      "[95]\tvalidation_0-logloss:0.55058\tvalidation_0-custom_recall:-0.73800\n",
      "[96]\tvalidation_0-logloss:0.55024\tvalidation_0-custom_recall:-0.73887\n",
      "[97]\tvalidation_0-logloss:0.54983\tvalidation_0-custom_recall:-0.73678\n",
      "[98]\tvalidation_0-logloss:0.54965\tvalidation_0-custom_recall:-0.73844\n",
      "[99]\tvalidation_0-logloss:0.54939\tvalidation_0-custom_recall:-0.73966\n",
      "[100]\tvalidation_0-logloss:0.54896\tvalidation_0-custom_recall:-0.73922\n",
      "[101]\tvalidation_0-logloss:0.54894\tvalidation_0-custom_recall:-0.73922\n",
      "[102]\tvalidation_0-logloss:0.54874\tvalidation_0-custom_recall:-0.74131\n",
      "[103]\tvalidation_0-logloss:0.54895\tvalidation_0-custom_recall:-0.74088\n",
      "[104]\tvalidation_0-logloss:0.54912\tvalidation_0-custom_recall:-0.74210\n",
      "[105]\tvalidation_0-logloss:0.54916\tvalidation_0-custom_recall:-0.74131\n",
      "[106]\tvalidation_0-logloss:0.54913\tvalidation_0-custom_recall:-0.73922\n",
      "[107]\tvalidation_0-logloss:0.54847\tvalidation_0-custom_recall:-0.73879\n",
      "[108]\tvalidation_0-logloss:0.54838\tvalidation_0-custom_recall:-0.74175\n",
      "[109]\tvalidation_0-logloss:0.54850\tvalidation_0-custom_recall:-0.74009\n",
      "[110]\tvalidation_0-logloss:0.54842\tvalidation_0-custom_recall:-0.74053\n",
      "[111]\tvalidation_0-logloss:0.54880\tvalidation_0-custom_recall:-0.74218\n",
      "[112]\tvalidation_0-logloss:0.54884\tvalidation_0-custom_recall:-0.74384\n",
      "[113]\tvalidation_0-logloss:0.54915\tvalidation_0-custom_recall:-0.74514\n",
      "[114]\tvalidation_0-logloss:0.54891\tvalidation_0-custom_recall:-0.74471\n",
      "[115]\tvalidation_0-logloss:0.54926\tvalidation_0-custom_recall:-0.74175\n"
     ]
    },
    {
     "name": "stdout",
     "output_type": "stream",
     "text": [
      "[116]\tvalidation_0-logloss:0.54889\tvalidation_0-custom_recall:-0.74175\n",
      "[117]\tvalidation_0-logloss:0.54851\tvalidation_0-custom_recall:-0.74262\n",
      "[118]\tvalidation_0-logloss:0.54860\tvalidation_0-custom_recall:-0.74767\n",
      "[119]\tvalidation_0-logloss:0.54882\tvalidation_0-custom_recall:-0.74636\n",
      "[120]\tvalidation_0-logloss:0.54892\tvalidation_0-custom_recall:-0.74427\n",
      "[121]\tvalidation_0-logloss:0.54893\tvalidation_0-custom_recall:-0.74427\n",
      "[122]\tvalidation_0-logloss:0.54849\tvalidation_0-custom_recall:-0.74471\n",
      "[123]\tvalidation_0-logloss:0.54845\tvalidation_0-custom_recall:-0.74688\n",
      "[124]\tvalidation_0-logloss:0.54810\tvalidation_0-custom_recall:-0.74645\n",
      "[125]\tvalidation_0-logloss:0.54771\tvalidation_0-custom_recall:-0.74688\n",
      "[126]\tvalidation_0-logloss:0.54774\tvalidation_0-custom_recall:-0.74558\n",
      "[127]\tvalidation_0-logloss:0.54744\tvalidation_0-custom_recall:-0.74558\n",
      "[128]\tvalidation_0-logloss:0.54719\tvalidation_0-custom_recall:-0.74775\n",
      "[129]\tvalidation_0-logloss:0.54685\tvalidation_0-custom_recall:-0.74566\n",
      "[130]\tvalidation_0-logloss:0.54658\tvalidation_0-custom_recall:-0.74775\n",
      "[131]\tvalidation_0-logloss:0.54639\tvalidation_0-custom_recall:-0.74688\n",
      "[132]\tvalidation_0-logloss:0.54633\tvalidation_0-custom_recall:-0.74854\n",
      "[133]\tvalidation_0-logloss:0.54566\tvalidation_0-custom_recall:-0.75028\n",
      "[134]\tvalidation_0-logloss:0.54572\tvalidation_0-custom_recall:-0.74732\n",
      "[135]\tvalidation_0-logloss:0.54558\tvalidation_0-custom_recall:-0.74732\n",
      "[136]\tvalidation_0-logloss:0.54526\tvalidation_0-custom_recall:-0.74688\n",
      "[137]\tvalidation_0-logloss:0.54503\tvalidation_0-custom_recall:-0.74723\n",
      "[138]\tvalidation_0-logloss:0.54493\tvalidation_0-custom_recall:-0.74889\n",
      "[139]\tvalidation_0-logloss:0.54491\tvalidation_0-custom_recall:-0.74976\n",
      "[140]\tvalidation_0-logloss:0.54490\tvalidation_0-custom_recall:-0.75063\n",
      "[141]\tvalidation_0-logloss:0.54464\tvalidation_0-custom_recall:-0.74984\n",
      "[142]\tvalidation_0-logloss:0.54429\tvalidation_0-custom_recall:-0.74897\n",
      "[143]\tvalidation_0-logloss:0.54425\tvalidation_0-custom_recall:-0.74941\n",
      "[144]\tvalidation_0-logloss:0.54408\tvalidation_0-custom_recall:-0.74897\n",
      "[145]\tvalidation_0-logloss:0.54388\tvalidation_0-custom_recall:-0.74854\n",
      "[146]\tvalidation_0-logloss:0.54371\tvalidation_0-custom_recall:-0.74976\n",
      "[147]\tvalidation_0-logloss:0.54416\tvalidation_0-custom_recall:-0.74810\n",
      "[148]\tvalidation_0-logloss:0.54429\tvalidation_0-custom_recall:-0.74932\n",
      "[149]\tvalidation_0-logloss:0.54426\tvalidation_0-custom_recall:-0.74854\n",
      "[150]\tvalidation_0-logloss:0.54444\tvalidation_0-custom_recall:-0.74810\n",
      "[151]\tvalidation_0-logloss:0.54475\tvalidation_0-custom_recall:-0.75098\n",
      "[152]\tvalidation_0-logloss:0.54450\tvalidation_0-custom_recall:-0.75098\n",
      "[153]\tvalidation_0-logloss:0.54436\tvalidation_0-custom_recall:-0.75098\n",
      "[154]\tvalidation_0-logloss:0.54449\tvalidation_0-custom_recall:-0.75228\n",
      "[155]\tvalidation_0-logloss:0.54463\tvalidation_0-custom_recall:-0.75359\n",
      "[156]\tvalidation_0-logloss:0.54437\tvalidation_0-custom_recall:-0.75446\n",
      "[157]\tvalidation_0-logloss:0.54457\tvalidation_0-custom_recall:-0.75150\n",
      "[158]\tvalidation_0-logloss:0.54502\tvalidation_0-custom_recall:-0.75106\n",
      "[159]\tvalidation_0-logloss:0.54486\tvalidation_0-custom_recall:-0.74897\n",
      "[160]\tvalidation_0-logloss:0.54492\tvalidation_0-custom_recall:-0.74810\n",
      "[161]\tvalidation_0-logloss:0.54492\tvalidation_0-custom_recall:-0.74767\n",
      "[162]\tvalidation_0-logloss:0.54504\tvalidation_0-custom_recall:-0.74932\n",
      "[163]\tvalidation_0-logloss:0.54530\tvalidation_0-custom_recall:-0.74976\n",
      "[164]\tvalidation_0-logloss:0.54502\tvalidation_0-custom_recall:-0.74889\n",
      "[165]\tvalidation_0-logloss:0.54501\tvalidation_0-custom_recall:-0.74889\n",
      "[166]\tvalidation_0-logloss:0.54467\tvalidation_0-custom_recall:-0.75019\n",
      "[167]\tvalidation_0-logloss:0.54453\tvalidation_0-custom_recall:-0.75063\n",
      "[168]\tvalidation_0-logloss:0.54474\tvalidation_0-custom_recall:-0.75106\n",
      "[169]\tvalidation_0-logloss:0.54469\tvalidation_0-custom_recall:-0.74976\n",
      "[170]\tvalidation_0-logloss:0.54454\tvalidation_0-custom_recall:-0.75063\n",
      "[171]\tvalidation_0-logloss:0.54478\tvalidation_0-custom_recall:-0.74976\n",
      "[172]\tvalidation_0-logloss:0.54460\tvalidation_0-custom_recall:-0.75141\n",
      "[173]\tvalidation_0-logloss:0.54454\tvalidation_0-custom_recall:-0.75228\n",
      "[174]\tvalidation_0-logloss:0.54462\tvalidation_0-custom_recall:-0.75228\n",
      "[175]\tvalidation_0-logloss:0.54476\tvalidation_0-custom_recall:-0.75185\n",
      "[176]\tvalidation_0-logloss:0.54473\tvalidation_0-custom_recall:-0.75185\n",
      "[177]\tvalidation_0-logloss:0.54465\tvalidation_0-custom_recall:-0.75193\n",
      "[178]\tvalidation_0-logloss:0.54482\tvalidation_0-custom_recall:-0.75193\n",
      "[179]\tvalidation_0-logloss:0.54464\tvalidation_0-custom_recall:-0.75280\n",
      "[180]\tvalidation_0-logloss:0.54461\tvalidation_0-custom_recall:-0.75237\n",
      "[181]\tvalidation_0-logloss:0.54460\tvalidation_0-custom_recall:-0.75150\n",
      "[182]\tvalidation_0-logloss:0.54452\tvalidation_0-custom_recall:-0.75071\n",
      "[183]\tvalidation_0-logloss:0.54441\tvalidation_0-custom_recall:-0.75071\n",
      "[184]\tvalidation_0-logloss:0.54440\tvalidation_0-custom_recall:-0.75028\n",
      "[185]\tvalidation_0-logloss:0.54449\tvalidation_0-custom_recall:-0.75237\n",
      "[186]\tvalidation_0-logloss:0.54454\tvalidation_0-custom_recall:-0.75193\n",
      "[187]\tvalidation_0-logloss:0.54388\tvalidation_0-custom_recall:-0.75019\n",
      "[188]\tvalidation_0-logloss:0.54377\tvalidation_0-custom_recall:-0.75063\n",
      "[189]\tvalidation_0-logloss:0.54363\tvalidation_0-custom_recall:-0.75063\n",
      "[190]\tvalidation_0-logloss:0.54357\tvalidation_0-custom_recall:-0.75063\n",
      "[191]\tvalidation_0-logloss:0.54363\tvalidation_0-custom_recall:-0.74810\n",
      "[192]\tvalidation_0-logloss:0.54352\tvalidation_0-custom_recall:-0.75150\n",
      "[193]\tvalidation_0-logloss:0.54360\tvalidation_0-custom_recall:-0.75106\n",
      "[194]\tvalidation_0-logloss:0.54341\tvalidation_0-custom_recall:-0.75280\n",
      "[195]\tvalidation_0-logloss:0.54325\tvalidation_0-custom_recall:-0.75150\n",
      "[196]\tvalidation_0-logloss:0.54306\tvalidation_0-custom_recall:-0.75063\n",
      "[197]\tvalidation_0-logloss:0.54281\tvalidation_0-custom_recall:-0.75106\n",
      "[198]\tvalidation_0-logloss:0.54250\tvalidation_0-custom_recall:-0.75193\n",
      "[199]\tvalidation_0-logloss:0.54204\tvalidation_0-custom_recall:-0.75324\n",
      "[200]\tvalidation_0-logloss:0.54209\tvalidation_0-custom_recall:-0.75237\n",
      "[201]\tvalidation_0-logloss:0.54241\tvalidation_0-custom_recall:-0.75367\n",
      "[202]\tvalidation_0-logloss:0.54295\tvalidation_0-custom_recall:-0.75280\n",
      "[203]\tvalidation_0-logloss:0.54278\tvalidation_0-custom_recall:-0.75446\n",
      "[204]\tvalidation_0-logloss:0.54270\tvalidation_0-custom_recall:-0.75446\n",
      "[205]\tvalidation_0-logloss:0.54290\tvalidation_0-custom_recall:-0.75489\n",
      "[206]\tvalidation_0-logloss:0.54289\tvalidation_0-custom_recall:-0.75280\n",
      "[207]\tvalidation_0-logloss:0.54272\tvalidation_0-custom_recall:-0.75237\n",
      "[208]\tvalidation_0-logloss:0.54270\tvalidation_0-custom_recall:-0.75019\n",
      "[209]\tvalidation_0-logloss:0.54277\tvalidation_0-custom_recall:-0.75063\n",
      "[210]\tvalidation_0-logloss:0.54287\tvalidation_0-custom_recall:-0.75193\n",
      "[211]\tvalidation_0-logloss:0.54297\tvalidation_0-custom_recall:-0.75106\n",
      "[212]\tvalidation_0-logloss:0.54307\tvalidation_0-custom_recall:-0.74984\n",
      "[213]\tvalidation_0-logloss:0.54323\tvalidation_0-custom_recall:-0.74984\n",
      "[214]\tvalidation_0-logloss:0.54309\tvalidation_0-custom_recall:-0.74984\n",
      "[215]\tvalidation_0-logloss:0.54322\tvalidation_0-custom_recall:-0.74984\n",
      "[216]\tvalidation_0-logloss:0.54329\tvalidation_0-custom_recall:-0.74897\n",
      "[217]\tvalidation_0-logloss:0.54321\tvalidation_0-custom_recall:-0.74941\n",
      "[218]\tvalidation_0-logloss:0.54347\tvalidation_0-custom_recall:-0.74810\n",
      "[219]\tvalidation_0-logloss:0.54350\tvalidation_0-custom_recall:-0.74854\n",
      "[220]\tvalidation_0-logloss:0.54381\tvalidation_0-custom_recall:-0.74810\n",
      "[221]\tvalidation_0-logloss:0.54358\tvalidation_0-custom_recall:-0.74976\n",
      "[222]\tvalidation_0-logloss:0.54351\tvalidation_0-custom_recall:-0.74976\n",
      "[223]\tvalidation_0-logloss:0.54333\tvalidation_0-custom_recall:-0.75019\n",
      "[224]\tvalidation_0-logloss:0.54378\tvalidation_0-custom_recall:-0.74976\n",
      "[225]\tvalidation_0-logloss:0.54469\tvalidation_0-custom_recall:-0.74932\n",
      "[226]\tvalidation_0-logloss:0.54490\tvalidation_0-custom_recall:-0.74889\n",
      "[227]\tvalidation_0-logloss:0.54484\tvalidation_0-custom_recall:-0.74889\n",
      "[228]\tvalidation_0-logloss:0.54443\tvalidation_0-custom_recall:-0.75011\n",
      "[229]\tvalidation_0-logloss:0.54418\tvalidation_0-custom_recall:-0.75054\n",
      "[230]\tvalidation_0-logloss:0.54388\tvalidation_0-custom_recall:-0.74932\n",
      "[231]\tvalidation_0-logloss:0.54379\tvalidation_0-custom_recall:-0.74932\n"
     ]
    },
    {
     "name": "stdout",
     "output_type": "stream",
     "text": [
      "[232]\tvalidation_0-logloss:0.54371\tvalidation_0-custom_recall:-0.74767\n",
      "[233]\tvalidation_0-logloss:0.54327\tvalidation_0-custom_recall:-0.75019\n",
      "[234]\tvalidation_0-logloss:0.54297\tvalidation_0-custom_recall:-0.74941\n",
      "[235]\tvalidation_0-logloss:0.54296\tvalidation_0-custom_recall:-0.74941\n",
      "[236]\tvalidation_0-logloss:0.54319\tvalidation_0-custom_recall:-0.74854\n",
      "[237]\tvalidation_0-logloss:0.54339\tvalidation_0-custom_recall:-0.74688\n",
      "[238]\tvalidation_0-logloss:0.54337\tvalidation_0-custom_recall:-0.74732\n",
      "[239]\tvalidation_0-logloss:0.54320\tvalidation_0-custom_recall:-0.74732\n",
      "[240]\tvalidation_0-logloss:0.54350\tvalidation_0-custom_recall:-0.74897\n",
      "[241]\tvalidation_0-logloss:0.54348\tvalidation_0-custom_recall:-0.74688\n",
      "[242]\tvalidation_0-logloss:0.54361\tvalidation_0-custom_recall:-0.74688\n",
      "[243]\tvalidation_0-logloss:0.54357\tvalidation_0-custom_recall:-0.74932\n",
      "[244]\tvalidation_0-logloss:0.54358\tvalidation_0-custom_recall:-0.74932\n",
      "[245]\tvalidation_0-logloss:0.54331\tvalidation_0-custom_recall:-0.75019\n",
      "[246]\tvalidation_0-logloss:0.54324\tvalidation_0-custom_recall:-0.75150\n",
      "[247]\tvalidation_0-logloss:0.54313\tvalidation_0-custom_recall:-0.75150\n",
      "[248]\tvalidation_0-logloss:0.54307\tvalidation_0-custom_recall:-0.75150\n",
      "[249]\tvalidation_0-logloss:0.54320\tvalidation_0-custom_recall:-0.75150\n",
      "[250]\tvalidation_0-logloss:0.54293\tvalidation_0-custom_recall:-0.75063\n",
      "[251]\tvalidation_0-logloss:0.54270\tvalidation_0-custom_recall:-0.75106\n",
      "[252]\tvalidation_0-logloss:0.54215\tvalidation_0-custom_recall:-0.75150\n",
      "[253]\tvalidation_0-logloss:0.54220\tvalidation_0-custom_recall:-0.75193\n",
      "[254]\tvalidation_0-logloss:0.54238\tvalidation_0-custom_recall:-0.75150\n",
      "[255]\tvalidation_0-logloss:0.54242\tvalidation_0-custom_recall:-0.75150\n",
      "[256]\tvalidation_0-logloss:0.54289\tvalidation_0-custom_recall:-0.75193\n",
      "[257]\tvalidation_0-logloss:0.54258\tvalidation_0-custom_recall:-0.75193\n",
      "[258]\tvalidation_0-logloss:0.54279\tvalidation_0-custom_recall:-0.75193\n",
      "[259]\tvalidation_0-logloss:0.54309\tvalidation_0-custom_recall:-0.75150\n",
      "[260]\tvalidation_0-logloss:0.54303\tvalidation_0-custom_recall:-0.75193\n",
      "[261]\tvalidation_0-logloss:0.54310\tvalidation_0-custom_recall:-0.75150\n",
      "[262]\tvalidation_0-logloss:0.54323\tvalidation_0-custom_recall:-0.75106\n",
      "[263]\tvalidation_0-logloss:0.54350\tvalidation_0-custom_recall:-0.75063\n",
      "[264]\tvalidation_0-logloss:0.54344\tvalidation_0-custom_recall:-0.75150\n",
      "[265]\tvalidation_0-logloss:0.54359\tvalidation_0-custom_recall:-0.75106\n",
      "[266]\tvalidation_0-logloss:0.54344\tvalidation_0-custom_recall:-0.74984\n",
      "[267]\tvalidation_0-logloss:0.54335\tvalidation_0-custom_recall:-0.74897\n",
      "[268]\tvalidation_0-logloss:0.54284\tvalidation_0-custom_recall:-0.74941\n",
      "[269]\tvalidation_0-logloss:0.54281\tvalidation_0-custom_recall:-0.74941\n",
      "[270]\tvalidation_0-logloss:0.54245\tvalidation_0-custom_recall:-0.74941\n",
      "[271]\tvalidation_0-logloss:0.54251\tvalidation_0-custom_recall:-0.74941\n",
      "[272]\tvalidation_0-logloss:0.54242\tvalidation_0-custom_recall:-0.75028\n",
      "[273]\tvalidation_0-logloss:0.54239\tvalidation_0-custom_recall:-0.74941\n",
      "[274]\tvalidation_0-logloss:0.54225\tvalidation_0-custom_recall:-0.74984\n",
      "[275]\tvalidation_0-logloss:0.54193\tvalidation_0-custom_recall:-0.74984\n",
      "[276]\tvalidation_0-logloss:0.54209\tvalidation_0-custom_recall:-0.74897\n",
      "[277]\tvalidation_0-logloss:0.54232\tvalidation_0-custom_recall:-0.74897\n",
      "[278]\tvalidation_0-logloss:0.54241\tvalidation_0-custom_recall:-0.74941\n",
      "[279]\tvalidation_0-logloss:0.54232\tvalidation_0-custom_recall:-0.75150\n",
      "[280]\tvalidation_0-logloss:0.54269\tvalidation_0-custom_recall:-0.75019\n",
      "[281]\tvalidation_0-logloss:0.54266\tvalidation_0-custom_recall:-0.75019\n",
      "[282]\tvalidation_0-logloss:0.54264\tvalidation_0-custom_recall:-0.74932\n",
      "[283]\tvalidation_0-logloss:0.54284\tvalidation_0-custom_recall:-0.74932\n",
      "[284]\tvalidation_0-logloss:0.54267\tvalidation_0-custom_recall:-0.74889\n",
      "[285]\tvalidation_0-logloss:0.54297\tvalidation_0-custom_recall:-0.74976\n",
      "[286]\tvalidation_0-logloss:0.54285\tvalidation_0-custom_recall:-0.74976\n",
      "[287]\tvalidation_0-logloss:0.54283\tvalidation_0-custom_recall:-0.74976\n",
      "[288]\tvalidation_0-logloss:0.54272\tvalidation_0-custom_recall:-0.74976\n",
      "[289]\tvalidation_0-logloss:0.54281\tvalidation_0-custom_recall:-0.74932\n",
      "[290]\tvalidation_0-logloss:0.54269\tvalidation_0-custom_recall:-0.74932\n",
      "[291]\tvalidation_0-logloss:0.54275\tvalidation_0-custom_recall:-0.75063\n",
      "[292]\tvalidation_0-logloss:0.54251\tvalidation_0-custom_recall:-0.75063\n",
      "[293]\tvalidation_0-logloss:0.54238\tvalidation_0-custom_recall:-0.74932\n",
      "[294]\tvalidation_0-logloss:0.54288\tvalidation_0-custom_recall:-0.74932\n",
      "[295]\tvalidation_0-logloss:0.54258\tvalidation_0-custom_recall:-0.74932\n",
      "[296]\tvalidation_0-logloss:0.54255\tvalidation_0-custom_recall:-0.75019\n",
      "[297]\tvalidation_0-logloss:0.54269\tvalidation_0-custom_recall:-0.74889\n",
      "[298]\tvalidation_0-logloss:0.54293\tvalidation_0-custom_recall:-0.74932\n",
      "[299]\tvalidation_0-logloss:0.54251\tvalidation_0-custom_recall:-0.74976\n",
      "Wall time: 22.8 s\n"
     ]
    }
   ],
   "source": [
    "%%time\n",
    "clf_rel = xgb.XGBClassifier(n_estimators=300, max_depth=5, learning_rate=0.03, \n",
    "                            subsample=0.8, colsample_bytree=0.8, colsample_bynode=0.3, \n",
    "                            eval_metric=custom_recall,\n",
    "                            random_state=RANDOM_STATE)\n",
    "\n",
    "clf_rel_fit = fit_func(clf_rel, X_train, y_train['Релевантность'], \n",
    "                       X_test, y_test['Релевантность'])"
   ]
  },
  {
   "cell_type": "code",
   "execution_count": 53,
   "metadata": {},
   "outputs": [],
   "source": [
    "pred_rel = pred_func(clf_rel, X_test, label='Релевантность')"
   ]
  },
  {
   "cell_type": "code",
   "execution_count": 54,
   "metadata": {},
   "outputs": [
    {
     "name": "stdout",
     "output_type": "stream",
     "text": [
      "XGBClassifier\n",
      "recall Релевантность 0.7497581341779442\n",
      "\n",
      "Feature_importances Релевантность:\n",
      "советую прочтению                         0.003\n",
      "ивыч                                      0.002\n",
      "ческой                                    0.002\n",
      "Название книги_Зулейха открывает глаза    0.002\n",
      "змен                                      0.002\n",
      "первая прочитанная                        0.002\n",
      "ига не                                    0.002\n",
      "ракт                                      0.002\n",
      "зможно                                    0.002\n",
      "казалс                                    0.002\n",
      "шивания                                   0.002\n",
      "пять                                      0.002\n",
      "лава                                      0.002\n",
      "len_reviews                               0.002\n",
      "болезнь                                   0.002\n",
      "советую прочитать                         0.002\n",
      "моему                                     0.002\n",
      "зме                                       0.002\n",
      "ракте                                     0.002\n",
      "советую читать                            0.002\n",
      "dtype: float32\n"
     ]
    },
    {
     "data": {
      "image/png": "[encoded data removed]",
      "text/plain": [
       "<Figure size 720x360 with 4 Axes>"
      ]
     },
     "metadata": {
      "needs_background": "light"
     },
     "output_type": "display_data"
    }
   ],
   "source": [
    "recall_rel = recall_score(y_test['Релевантность'], pred_rel[1], average='macro', zero_division=True)\n",
    "view_test(y_test['Релевантность'], pred_rel, feats)"
   ]
  },
  {
   "cell_type": "code",
   "execution_count": 55,
   "metadata": {},
   "outputs": [
    {
     "data": {
      "text/plain": [
       "0.8981428891575767"
      ]
     },
     "execution_count": 55,
     "metadata": {},
     "output_type": "execute_result"
    }
   ],
   "source": [
    "recall_ = (recall_rel + recall_takson_relev + recall_takson_not_relev + recall_len + recall_cen) / 5\n",
    "\n",
    "recall_"
   ]
  },
  {
   "cell_type": "markdown",
   "metadata": {},
   "source": [
    "# SUBMIT"
   ]
  },
  {
   "cell_type": "markdown",
   "metadata": {},
   "source": [
    "### submit Таксономия релевантные"
   ]
  },
  {
   "cell_type": "code",
   "execution_count": 56,
   "metadata": {
    "scrolled": true
   },
   "outputs": [
    {
     "name": "stdout",
     "output_type": "stream",
     "text": [
      "LGBMClassifier(random_state=0)\n",
      "y\n",
      "1    2479\n",
      "0    2360\n",
      "Name: Таксономия релевантные, dtype: int64\n",
      "\n",
      "After resample\n",
      "1    2360\n",
      "0    2360\n",
      "Name: Таксономия релевантные, dtype: int64\n",
      "38969\n",
      "Wall time: 42.5 s\n"
     ]
    }
   ],
   "source": [
    "%%time\n",
    "print(clf_takson_relev)\n",
    "clf_takson_relev_fit_ = fit_func(clf_takson_relev, X_lem, y_lem['Таксономия релевантные'], is_test=False)"
   ]
  },
  {
   "cell_type": "code",
   "execution_count": 57,
   "metadata": {},
   "outputs": [],
   "source": [
    "pred_proba_train_takson_relev_ = pred_proba_func(clf_takson_relev_fit_, X_lem, label='Таксономия релевантные')\n",
    "pred_proba_takson_relev_ = pred_proba_func(clf_takson_relev_fit_, test_lem, label='Таксономия релевантные')\n",
    "\n",
    "pred_takson_relev_ = pred_func(clf_takson_relev_fit_, test_lem, label='Таксономия релевантные')"
   ]
  },
  {
   "cell_type": "markdown",
   "metadata": {},
   "source": [
    "### submit Таксономия не релевантные"
   ]
  },
  {
   "cell_type": "code",
   "execution_count": 58,
   "metadata": {},
   "outputs": [],
   "source": [
    "X_train_stack_takson_rel_ = hstack([X_lem, \n",
    "                                    csr_matrix(pred_proba_train_takson_relev_[1].reshape(-1, 1))])\n",
    "\n",
    "X_test_stack_takson_rel_ = hstack([test_lem, \n",
    "                                  csr_matrix(pred_proba_takson_relev_[1].reshape(-1, 1))])"
   ]
  },
  {
   "cell_type": "code",
   "execution_count": 59,
   "metadata": {},
   "outputs": [
    {
     "name": "stdout",
     "output_type": "stream",
     "text": [
      "XGBClassifier(base_score=0.5, booster='gbtree', callbacks=None,\n",
      "              colsample_bylevel=1, colsample_bynode=0.7, colsample_bytree=0.8,\n",
      "              early_stopping_rounds=None, enable_categorical=False,\n",
      "              eval_metric=<function custom_recall at 0x0000006E21C21A60>,\n",
      "              gamma=0, gpu_id=-1, grow_policy='depthwise', importance_type=None,\n",
      "              interaction_constraints='', learning_rate=0.03, max_bin=256,\n",
      "              max_cat_to_onehot=4, max_delta_step=0, max_depth=5, max_leaves=0,\n",
      "              min_child_weight=1, missing=nan, monotone_constraints='()',\n",
      "              n_estimators=300, n_jobs=0, num_parallel_tree=1, predictor='auto',\n",
      "              random_state=0, reg_alpha=0, reg_lambda=1, ...)\n",
      "y\n",
      "0    4225\n",
      "1     614\n",
      "Name: Таксономия не релевантные, dtype: int64\n",
      "\n",
      "After resample\n",
      "0    614\n",
      "1    614\n",
      "Name: Таксономия не релевантные, dtype: int64\n",
      "38970\n",
      "Wall time: 27.3 s\n"
     ]
    }
   ],
   "source": [
    "%%time\n",
    "print(clf_takson_not_relev)\n",
    "clf_takson_not_relev_fit_ = fit_func(clf_takson_not_relev, \n",
    "                                    X_train_stack_takson_rel_, y['Таксономия не релевантные'], is_test=False)"
   ]
  },
  {
   "cell_type": "code",
   "execution_count": 60,
   "metadata": {},
   "outputs": [],
   "source": [
    "pred_proba_train_takson_not_relev_ = pred_proba_func(clf_takson_not_relev_fit_, \n",
    "                                  X_train_stack_takson_rel_, \n",
    "                                  label='Таксономия не релевантные')\n",
    "\n",
    "pred_proba_takson_not_relev_ = pred_proba_func(clf_takson_not_relev_fit_, \n",
    "                                  X_test_stack_takson_rel_, \n",
    "                                  label='Таксономия не релевантные')\n",
    "\n",
    "\n",
    "pred_takson_not_relev_ = pred_func(clf_takson_not_relev_fit_, \n",
    "                                  X_test_stack_takson_rel_, \n",
    "                                  label='Таксономия не релевантные')"
   ]
  },
  {
   "cell_type": "markdown",
   "metadata": {},
   "source": [
    "### submit Ценности"
   ]
  },
  {
   "cell_type": "code",
   "execution_count": 61,
   "metadata": {},
   "outputs": [],
   "source": [
    "X_train_stack_takson_not_rel_ = hstack([X_lem, \n",
    "                                       csr_matrix(np.round(pred_proba_train_takson_relev_[1]).reshape(-1, 1)),\n",
    "                                       csr_matrix(np.round(pred_proba_train_takson_not_relev_[1]).reshape(-1, 1))])\n",
    "X_test_stack_takson_not_rel_ = hstack([test_lem, \n",
    "                                      csr_matrix(np.round(pred_proba_takson_relev_[1]).reshape(-1, 1)),\n",
    "                                      csr_matrix(np.round(pred_proba_takson_not_relev_[1]).reshape(-1, 1))])"
   ]
  },
  {
   "cell_type": "code",
   "execution_count": 62,
   "metadata": {},
   "outputs": [
    {
     "name": "stdout",
     "output_type": "stream",
     "text": [
      "LGBMClassifier(random_state=0)\n",
      "y\n",
      "1    2623\n",
      "0    2216\n",
      "Name: Ценности, dtype: int64\n",
      "\n",
      "After resample\n",
      "1    2216\n",
      "0    2216\n",
      "Name: Ценности, dtype: int64\n",
      "38971\n",
      "Wall time: 36.9 s\n"
     ]
    }
   ],
   "source": [
    "%%time\n",
    "print(clf_cen)\n",
    "clf_cen_fit_ = fit_func(clf_cen, X_train_stack_takson_not_rel_, y['Ценности'], is_test=False)"
   ]
  },
  {
   "cell_type": "code",
   "execution_count": 63,
   "metadata": {},
   "outputs": [],
   "source": [
    "pred_proba_train_cen_ = pred_proba_func(clf_cen_fit_, X_train_stack_takson_not_rel_, label='Ценности')\n",
    "pred_proba_cen_ = pred_proba_func(clf_cen_fit_, X_test_stack_takson_not_rel_, label='Ценности')\n",
    "\n",
    "pred_cen_ = pred_func(clf_cen_fit_, X_test_stack_takson_not_rel_, label='Ценности')"
   ]
  },
  {
   "cell_type": "markdown",
   "metadata": {},
   "source": [
    "### submit Длина отзыва"
   ]
  },
  {
   "cell_type": "code",
   "execution_count": 64,
   "metadata": {},
   "outputs": [],
   "source": [
    "X_train_stack_cen_ = hstack([X, \n",
    "                          csr_matrix(np.round(pred_proba_train_takson_relev_[1].reshape(-1, 1))),\n",
    "                           csr_matrix(np.round(pred_proba_train_takson_not_relev_[1].reshape(-1, 1))),\n",
    "                           csr_matrix(np.round(pred_proba_train_cen_[1].reshape(-1, 1)))\n",
    "                           ])\n",
    "X_test_stack_cen_ = hstack([test, \n",
    "                           csr_matrix(pred_takson_relev_[1].reshape(-1, 1)),\n",
    "                           csr_matrix(pred_takson_not_relev_[1].reshape(-1, 1)),\n",
    "                           csr_matrix(pred_cen_[1].reshape(-1, 1)),\n",
    "                            ])"
   ]
  },
  {
   "cell_type": "code",
   "execution_count": 65,
   "metadata": {},
   "outputs": [
    {
     "name": "stdout",
     "output_type": "stream",
     "text": [
      "LGBMClassifier(random_state=0)\n",
      "y\n",
      "0    3703\n",
      "1    1136\n",
      "Name: Длина отзыва, dtype: int64\n",
      "\n",
      "After resample\n",
      "0    1136\n",
      "1    1136\n",
      "Name: Длина отзыва, dtype: int64\n",
      "41911\n",
      "Wall time: 20.5 s\n"
     ]
    }
   ],
   "source": [
    "%%time\n",
    "print(clf_len) \n",
    "\n",
    "clf_len_fit_ = fit_func(clf_len, X_train_stack_cen_, y['Длина отзыва'], is_test=False)"
   ]
  },
  {
   "cell_type": "code",
   "execution_count": 66,
   "metadata": {},
   "outputs": [],
   "source": [
    "pred_proba_train_len_ = pred_proba_func(clf_len_fit_, X_train_stack_cen_, label='Длина отзыва')\n",
    "pred_proba_len_ = pred_proba_func(clf_len_fit_, X_test_stack_cen_, label='Длина отзыва')\n",
    "\n",
    "pred_len_ = pred_func(clf_len_fit_, X_test_stack_cen_, label='Длина отзыва')"
   ]
  },
  {
   "cell_type": "markdown",
   "metadata": {},
   "source": [
    "### submit Релевантность"
   ]
  },
  {
   "cell_type": "code",
   "execution_count": 67,
   "metadata": {},
   "outputs": [
    {
     "name": "stdout",
     "output_type": "stream",
     "text": [
      "XGBClassifier(base_score=0.5, booster='gbtree', callbacks=None,\n",
      "              colsample_bylevel=1, colsample_bynode=0.3, colsample_bytree=0.8,\n",
      "              early_stopping_rounds=None, enable_categorical=False,\n",
      "              eval_metric=<function custom_recall at 0x0000006E21C21A60>,\n",
      "              gamma=0, gpu_id=-1, grow_policy='depthwise', importance_type=None,\n",
      "              interaction_constraints='', learning_rate=0.03, max_bin=256,\n",
      "              max_cat_to_onehot=4, max_delta_step=0, max_depth=5, max_leaves=0,\n",
      "              min_child_weight=1, missing=nan, monotone_constraints='()',\n",
      "              n_estimators=300, n_jobs=0, num_parallel_tree=1, predictor='auto',\n",
      "              random_state=0, reg_alpha=0, reg_lambda=1, ...)\n",
      "y\n",
      "0    3781\n",
      "1    1058\n",
      "Name: Релевантность, dtype: int64\n",
      "\n",
      "After resample\n",
      "0    1058\n",
      "1    1058\n",
      "Name: Релевантность, dtype: int64\n",
      "41908\n",
      "Wall time: 26.7 s\n"
     ]
    }
   ],
   "source": [
    "%%time\n",
    "print(clf_rel)\n",
    "\n",
    "clf_rel_fit_ = fit_func(clf_rel, X, y['Релевантность'], is_test=False)"
   ]
  },
  {
   "cell_type": "code",
   "execution_count": 68,
   "metadata": {},
   "outputs": [],
   "source": [
    "pred_rel_ = pred_func(clf_rel_fit_, test, label='Релевантность')"
   ]
  },
  {
   "cell_type": "markdown",
   "metadata": {},
   "source": [
    "### STACK SUBMIT"
   ]
  },
  {
   "cell_type": "code",
   "execution_count": 69,
   "metadata": {},
   "outputs": [],
   "source": [
    "pred = np.stack([pred_rel_[1], pred_takson_relev_[1], pred_takson_not_relev_[1], pred_len_[1], pred_cen_[1]]).T"
   ]
  },
  {
   "cell_type": "code",
   "execution_count": 70,
   "metadata": {},
   "outputs": [],
   "source": [
    "sub = df_test[['RecordNo']].copy()\n",
    "sub.loc[:, mass_label] = pred.astype(int)"
   ]
  },
  {
   "cell_type": "code",
   "execution_count": 71,
   "metadata": {},
   "outputs": [
    {
     "data": {
      "text/html": [
       "<div>\n",
       "<style scoped>\n",
       "    .dataframe tbody tr th:only-of-type {\n",
       "        vertical-align: middle;\n",
       "    }\n",
       "\n",
       "    .dataframe tbody tr th {\n",
       "        vertical-align: top;\n",
       "    }\n",
       "\n",
       "    .dataframe thead th {\n",
       "        text-align: right;\n",
       "    }\n",
       "</style>\n",
       "<table border=\"1\" class=\"dataframe\">\n",
       "  <thead>\n",
       "    <tr style=\"text-align: right;\">\n",
       "      <th></th>\n",
       "      <th>RecordNo</th>\n",
       "      <th>Релевантность</th>\n",
       "      <th>Таксономия релевантные</th>\n",
       "      <th>Таксономия не релевантные</th>\n",
       "      <th>Длина отзыва</th>\n",
       "      <th>Ценности</th>\n",
       "    </tr>\n",
       "  </thead>\n",
       "  <tbody>\n",
       "    <tr>\n",
       "      <th>0</th>\n",
       "      <td>3366</td>\n",
       "      <td>1</td>\n",
       "      <td>0</td>\n",
       "      <td>0</td>\n",
       "      <td>1</td>\n",
       "      <td>1</td>\n",
       "    </tr>\n",
       "    <tr>\n",
       "      <th>1</th>\n",
       "      <td>3952</td>\n",
       "      <td>0</td>\n",
       "      <td>1</td>\n",
       "      <td>0</td>\n",
       "      <td>1</td>\n",
       "      <td>0</td>\n",
       "    </tr>\n",
       "    <tr>\n",
       "      <th>2</th>\n",
       "      <td>6852</td>\n",
       "      <td>1</td>\n",
       "      <td>0</td>\n",
       "      <td>0</td>\n",
       "      <td>0</td>\n",
       "      <td>1</td>\n",
       "    </tr>\n",
       "    <tr>\n",
       "      <th>3</th>\n",
       "      <td>4586</td>\n",
       "      <td>0</td>\n",
       "      <td>0</td>\n",
       "      <td>0</td>\n",
       "      <td>0</td>\n",
       "      <td>1</td>\n",
       "    </tr>\n",
       "    <tr>\n",
       "      <th>4</th>\n",
       "      <td>4677</td>\n",
       "      <td>1</td>\n",
       "      <td>1</td>\n",
       "      <td>0</td>\n",
       "      <td>1</td>\n",
       "      <td>0</td>\n",
       "    </tr>\n",
       "    <tr>\n",
       "      <th>...</th>\n",
       "      <td>...</td>\n",
       "      <td>...</td>\n",
       "      <td>...</td>\n",
       "      <td>...</td>\n",
       "      <td>...</td>\n",
       "      <td>...</td>\n",
       "    </tr>\n",
       "    <tr>\n",
       "      <th>2070</th>\n",
       "      <td>4661</td>\n",
       "      <td>0</td>\n",
       "      <td>1</td>\n",
       "      <td>1</td>\n",
       "      <td>0</td>\n",
       "      <td>1</td>\n",
       "    </tr>\n",
       "    <tr>\n",
       "      <th>2071</th>\n",
       "      <td>1547</td>\n",
       "      <td>0</td>\n",
       "      <td>0</td>\n",
       "      <td>1</td>\n",
       "      <td>1</td>\n",
       "      <td>0</td>\n",
       "    </tr>\n",
       "    <tr>\n",
       "      <th>2072</th>\n",
       "      <td>6071</td>\n",
       "      <td>1</td>\n",
       "      <td>1</td>\n",
       "      <td>0</td>\n",
       "      <td>1</td>\n",
       "      <td>1</td>\n",
       "    </tr>\n",
       "    <tr>\n",
       "      <th>2073</th>\n",
       "      <td>3805</td>\n",
       "      <td>1</td>\n",
       "      <td>1</td>\n",
       "      <td>0</td>\n",
       "      <td>0</td>\n",
       "      <td>1</td>\n",
       "    </tr>\n",
       "    <tr>\n",
       "      <th>2074</th>\n",
       "      <td>471</td>\n",
       "      <td>0</td>\n",
       "      <td>0</td>\n",
       "      <td>0</td>\n",
       "      <td>1</td>\n",
       "      <td>1</td>\n",
       "    </tr>\n",
       "  </tbody>\n",
       "</table>\n",
       "<p>2075 rows × 6 columns</p>\n",
       "</div>"
      ],
      "text/plain": [
       "      RecordNo  Релевантность  Таксономия релевантные  \\\n",
       "0         3366              1                       0   \n",
       "1         3952              0                       1   \n",
       "2         6852              1                       0   \n",
       "3         4586              0                       0   \n",
       "4         4677              1                       1   \n",
       "...        ...            ...                     ...   \n",
       "2070      4661              0                       1   \n",
       "2071      1547              0                       0   \n",
       "2072      6071              1                       1   \n",
       "2073      3805              1                       1   \n",
       "2074       471              0                       0   \n",
       "\n",
       "      Таксономия не релевантные  Длина отзыва  Ценности  \n",
       "0                             0             1         1  \n",
       "1                             0             1         0  \n",
       "2                             0             0         1  \n",
       "3                             0             0         1  \n",
       "4                             0             1         0  \n",
       "...                         ...           ...       ...  \n",
       "2070                          1             0         1  \n",
       "2071                          1             1         0  \n",
       "2072                          0             1         1  \n",
       "2073                          0             0         1  \n",
       "2074                          0             1         1  \n",
       "\n",
       "[2075 rows x 6 columns]"
      ]
     },
     "execution_count": 71,
     "metadata": {},
     "output_type": "execute_result"
    }
   ],
   "source": [
    "sub"
   ]
  },
  {
   "cell_type": "code",
   "execution_count": 72,
   "metadata": {},
   "outputs": [],
   "source": [
    "sub.to_csv('submit.csv', index=False)"
   ]
  }
 ],
 "metadata": {
  "colab": {
   "name": "Культурный_baseline.ipynb",
   "provenance": []
  },
  "kernelspec": {
   "display_name": "Python 3 (ipykernel)",
   "language": "python",
   "name": "python3"
  },
  "language_info": {
   "codemirror_mode": {
    "name": "ipython",
    "version": 3
   },
   "file_extension": ".py",
   "mimetype": "text/x-python",
   "name": "python",
   "nbconvert_exporter": "python",
   "pygments_lexer": "ipython3",
   "version": "3.9.6"
  }
 },
 "nbformat": 4,
 "nbformat_minor": 1
}
